{
 "cells": [
  {
   "cell_type": "code",
   "execution_count": 3,
   "metadata": {
    "execution": {
     "iopub.execute_input": "2025-06-02T08:07:57.946511Z",
     "iopub.status.busy": "2025-06-02T08:07:57.946233Z",
     "iopub.status.idle": "2025-06-02T08:08:13.294425Z",
     "shell.execute_reply": "2025-06-02T08:08:13.293644Z",
     "shell.execute_reply.started": "2025-06-02T08:07:57.946491Z"
    },
    "trusted": true
   },
   "outputs": [
    {
     "name": "stderr",
     "output_type": "stream",
     "text": [
      "2025-06-02 08:08:00.596734: E external/local_xla/xla/stream_executor/cuda/cuda_fft.cc:477] Unable to register cuFFT factory: Attempting to register factory for plugin cuFFT when one has already been registered\n",
      "WARNING: All log messages before absl::InitializeLog() is called are written to STDERR\n",
      "E0000 00:00:1748851680.865554      35 cuda_dnn.cc:8310] Unable to register cuDNN factory: Attempting to register factory for plugin cuDNN when one has already been registered\n",
      "E0000 00:00:1748851680.942951      35 cuda_blas.cc:1418] Unable to register cuBLAS factory: Attempting to register factory for plugin cuBLAS when one has already been registered\n"
     ]
    }
   ],
   "source": [
    "import pandas as pd\n",
    "import numpy as np\n",
    "import matplotlib.pyplot as plt\n",
    "from sklearn.preprocessing import MinMaxScaler\n",
    "from tensorflow.keras.models import Sequential\n",
    "from tensorflow.keras.layers import Dense, LSTM\n",
    "import math\n",
    "from sklearn.metrics import mean_squared_error"
   ]
  },
  {
   "cell_type": "code",
   "execution_count": null,
   "metadata": {
    "execution": {
     "iopub.execute_input": "2025-06-02T08:09:55.894786Z",
     "iopub.status.busy": "2025-06-02T08:09:55.894056Z",
     "iopub.status.idle": "2025-06-02T08:09:56.061301Z",
     "shell.execute_reply": "2025-06-02T08:09:56.060746Z",
     "shell.execute_reply.started": "2025-06-02T08:09:55.894760Z"
    },
    "trusted": true
   },
   "outputs": [],
   "source": [
    "# Đọc dữ liệu\n",
    "df = pd.read_csv('.\\data\\processed_gold_data.csv')"
   ]
  },
  {
   "cell_type": "code",
   "execution_count": 6,
   "metadata": {
    "execution": {
     "iopub.execute_input": "2025-06-02T08:10:11.209390Z",
     "iopub.status.busy": "2025-06-02T08:10:11.208826Z",
     "iopub.status.idle": "2025-06-02T08:10:11.212775Z",
     "shell.execute_reply": "2025-06-02T08:10:11.212035Z",
     "shell.execute_reply.started": "2025-06-02T08:10:11.209367Z"
    },
    "trusted": true
   },
   "outputs": [],
   "source": [
    "# Chọn các features để dự đoán\n",
    "features = ['gold_last', 'gold_open', 'gold_high', 'gold_low', 'gold_volume', 'gold_change_percent']\n",
    "target = 'gold_open'"
   ]
  },
  {
   "cell_type": "code",
   "execution_count": 7,
   "metadata": {
    "execution": {
     "iopub.execute_input": "2025-06-02T08:10:21.199574Z",
     "iopub.status.busy": "2025-06-02T08:10:21.199303Z",
     "iopub.status.idle": "2025-06-02T08:10:21.204322Z",
     "shell.execute_reply": "2025-06-02T08:10:21.203406Z",
     "shell.execute_reply.started": "2025-06-02T08:10:21.199551Z"
    },
    "trusted": true
   },
   "outputs": [
    {
     "name": "stdout",
     "output_type": "stream",
     "text": [
      "Columns in dataset: ['date', 'gold_last', 'gold_open', 'gold_high', 'gold_low', 'gold_volume', 'gold_change_percent', 'oil_last', 'oil_open', 'oil_high', 'oil_low', 'oil_volume', 'oil_change_percent', 'dxy_last', 'dxy_open', 'dxy_high', 'dxy_low', 'dxy_change_percent', 'sp500_last', 'sp500_open', 'sp500_high', 'sp500_low', 'sp500_change_percent']\n",
      "Dataset shape: (11831, 23)\n"
     ]
    }
   ],
   "source": [
    "# Kiểm tra và xử lý dữ liệu\n",
    "print(\"Columns in dataset:\", df.columns.tolist())\n",
    "print(\"Dataset shape:\", df.shape)"
   ]
  },
  {
   "cell_type": "code",
   "execution_count": 8,
   "metadata": {
    "execution": {
     "iopub.execute_input": "2025-06-02T08:10:33.232282Z",
     "iopub.status.busy": "2025-06-02T08:10:33.231582Z",
     "iopub.status.idle": "2025-06-02T08:10:33.274240Z",
     "shell.execute_reply": "2025-06-02T08:10:33.273561Z",
     "shell.execute_reply.started": "2025-06-02T08:10:33.232259Z"
    },
    "trusted": true
   },
   "outputs": [
    {
     "data": {
      "text/html": [
       "<div>\n",
       "<style scoped>\n",
       "    .dataframe tbody tr th:only-of-type {\n",
       "        vertical-align: middle;\n",
       "    }\n",
       "\n",
       "    .dataframe tbody tr th {\n",
       "        vertical-align: top;\n",
       "    }\n",
       "\n",
       "    .dataframe thead th {\n",
       "        text-align: right;\n",
       "    }\n",
       "</style>\n",
       "<table border=\"1\" class=\"dataframe\">\n",
       "  <thead>\n",
       "    <tr style=\"text-align: right;\">\n",
       "      <th></th>\n",
       "      <th>date</th>\n",
       "      <th>gold_last</th>\n",
       "      <th>gold_open</th>\n",
       "      <th>gold_high</th>\n",
       "      <th>gold_low</th>\n",
       "      <th>gold_volume</th>\n",
       "      <th>gold_change_percent</th>\n",
       "      <th>oil_last</th>\n",
       "      <th>oil_open</th>\n",
       "      <th>oil_high</th>\n",
       "      <th>...</th>\n",
       "      <th>dxy_last</th>\n",
       "      <th>dxy_open</th>\n",
       "      <th>dxy_high</th>\n",
       "      <th>dxy_low</th>\n",
       "      <th>dxy_change_percent</th>\n",
       "      <th>sp500_last</th>\n",
       "      <th>sp500_open</th>\n",
       "      <th>sp500_high</th>\n",
       "      <th>sp500_low</th>\n",
       "      <th>sp500_change_percent</th>\n",
       "    </tr>\n",
       "  </thead>\n",
       "  <tbody>\n",
       "    <tr>\n",
       "      <th>0</th>\n",
       "      <td>1993-01-01</td>\n",
       "      <td>-1.005875</td>\n",
       "      <td>-1.005380</td>\n",
       "      <td>-1.008479</td>\n",
       "      <td>-1.002401</td>\n",
       "      <td>-0.738055</td>\n",
       "      <td>-0.099473</td>\n",
       "      <td>-1.190848</td>\n",
       "      <td>-1.187313</td>\n",
       "      <td>-1.197895</td>\n",
       "      <td>...</td>\n",
       "      <td>-0.032182</td>\n",
       "      <td>-0.049746</td>\n",
       "      <td>-0.056348</td>\n",
       "      <td>-0.040998</td>\n",
       "      <td>-0.012325</td>\n",
       "      <td>-1.095979</td>\n",
       "      <td>-1.093477</td>\n",
       "      <td>-1.095537</td>\n",
       "      <td>-1.093006</td>\n",
       "      <td>-0.659033</td>\n",
       "    </tr>\n",
       "    <tr>\n",
       "      <th>1</th>\n",
       "      <td>1993-01-02</td>\n",
       "      <td>-1.005875</td>\n",
       "      <td>-1.005380</td>\n",
       "      <td>-1.008479</td>\n",
       "      <td>-1.002401</td>\n",
       "      <td>-0.738055</td>\n",
       "      <td>-0.099473</td>\n",
       "      <td>-1.190848</td>\n",
       "      <td>-1.187313</td>\n",
       "      <td>-1.197895</td>\n",
       "      <td>...</td>\n",
       "      <td>-0.032182</td>\n",
       "      <td>-0.049746</td>\n",
       "      <td>-0.056348</td>\n",
       "      <td>-0.040998</td>\n",
       "      <td>-0.012325</td>\n",
       "      <td>-1.095979</td>\n",
       "      <td>-1.093477</td>\n",
       "      <td>-1.095537</td>\n",
       "      <td>-1.093006</td>\n",
       "      <td>-0.659033</td>\n",
       "    </tr>\n",
       "    <tr>\n",
       "      <th>2</th>\n",
       "      <td>1993-01-03</td>\n",
       "      <td>-1.005875</td>\n",
       "      <td>-1.005380</td>\n",
       "      <td>-1.008479</td>\n",
       "      <td>-1.002401</td>\n",
       "      <td>-0.738055</td>\n",
       "      <td>-0.099473</td>\n",
       "      <td>-1.190848</td>\n",
       "      <td>-1.187313</td>\n",
       "      <td>-1.197895</td>\n",
       "      <td>...</td>\n",
       "      <td>-0.032182</td>\n",
       "      <td>-0.049746</td>\n",
       "      <td>-0.056348</td>\n",
       "      <td>-0.040998</td>\n",
       "      <td>-0.012325</td>\n",
       "      <td>-1.095979</td>\n",
       "      <td>-1.093477</td>\n",
       "      <td>-1.095537</td>\n",
       "      <td>-1.093006</td>\n",
       "      <td>-0.659033</td>\n",
       "    </tr>\n",
       "    <tr>\n",
       "      <th>3</th>\n",
       "      <td>1993-01-04</td>\n",
       "      <td>-1.013075</td>\n",
       "      <td>-1.011814</td>\n",
       "      <td>-1.014711</td>\n",
       "      <td>-1.012439</td>\n",
       "      <td>-0.794728</td>\n",
       "      <td>-1.409866</td>\n",
       "      <td>-1.206730</td>\n",
       "      <td>-1.192839</td>\n",
       "      <td>-1.203351</td>\n",
       "      <td>...</td>\n",
       "      <td>0.072461</td>\n",
       "      <td>-0.028816</td>\n",
       "      <td>0.057388</td>\n",
       "      <td>0.001029</td>\n",
       "      <td>2.433403</td>\n",
       "      <td>-1.096209</td>\n",
       "      <td>-1.095929</td>\n",
       "      <td>-1.097290</td>\n",
       "      <td>-1.093931</td>\n",
       "      <td>-0.096109</td>\n",
       "    </tr>\n",
       "    <tr>\n",
       "      <th>4</th>\n",
       "      <td>1993-01-05</td>\n",
       "      <td>-1.012156</td>\n",
       "      <td>-1.011968</td>\n",
       "      <td>-1.014559</td>\n",
       "      <td>-1.009351</td>\n",
       "      <td>-0.735929</td>\n",
       "      <td>0.133485</td>\n",
       "      <td>-1.199134</td>\n",
       "      <td>-1.205618</td>\n",
       "      <td>-1.210513</td>\n",
       "      <td>...</td>\n",
       "      <td>-0.006497</td>\n",
       "      <td>0.063470</td>\n",
       "      <td>0.056441</td>\n",
       "      <td>-0.010433</td>\n",
       "      <td>-1.841483</td>\n",
       "      <td>-1.097052</td>\n",
       "      <td>-1.096235</td>\n",
       "      <td>-1.098738</td>\n",
       "      <td>-1.094624</td>\n",
       "      <td>-0.254432</td>\n",
       "    </tr>\n",
       "    <tr>\n",
       "      <th>...</th>\n",
       "      <td>...</td>\n",
       "      <td>...</td>\n",
       "      <td>...</td>\n",
       "      <td>...</td>\n",
       "      <td>...</td>\n",
       "      <td>...</td>\n",
       "      <td>...</td>\n",
       "      <td>...</td>\n",
       "      <td>...</td>\n",
       "      <td>...</td>\n",
       "      <td>...</td>\n",
       "      <td>...</td>\n",
       "      <td>...</td>\n",
       "      <td>...</td>\n",
       "      <td>...</td>\n",
       "      <td>...</td>\n",
       "      <td>...</td>\n",
       "      <td>...</td>\n",
       "      <td>...</td>\n",
       "      <td>...</td>\n",
       "      <td>...</td>\n",
       "    </tr>\n",
       "    <tr>\n",
       "      <th>11826</th>\n",
       "      <td>2025-05-19</td>\n",
       "      <td>3.437670</td>\n",
       "      <td>3.416814</td>\n",
       "      <td>3.429109</td>\n",
       "      <td>3.439422</td>\n",
       "      <td>1.015917</td>\n",
       "      <td>-0.186833</td>\n",
       "      <td>0.281368</td>\n",
       "      <td>0.276717</td>\n",
       "      <td>0.270310</td>\n",
       "      <td>...</td>\n",
       "      <td>0.735515</td>\n",
       "      <td>0.780820</td>\n",
       "      <td>0.746440</td>\n",
       "      <td>0.734591</td>\n",
       "      <td>-1.368779</td>\n",
       "      <td>3.137912</td>\n",
       "      <td>3.092568</td>\n",
       "      <td>3.118497</td>\n",
       "      <td>3.112911</td>\n",
       "      <td>0.044622</td>\n",
       "    </tr>\n",
       "    <tr>\n",
       "      <th>11827</th>\n",
       "      <td>2025-05-20</td>\n",
       "      <td>3.515957</td>\n",
       "      <td>3.436729</td>\n",
       "      <td>3.498423</td>\n",
       "      <td>3.436796</td>\n",
       "      <td>1.430062</td>\n",
       "      <td>1.492411</td>\n",
       "      <td>0.277570</td>\n",
       "      <td>0.282588</td>\n",
       "      <td>0.267922</td>\n",
       "      <td>...</td>\n",
       "      <td>0.706025</td>\n",
       "      <td>0.736104</td>\n",
       "      <td>0.716110</td>\n",
       "      <td>0.729815</td>\n",
       "      <td>-0.649447</td>\n",
       "      <td>3.120189</td>\n",
       "      <td>3.124576</td>\n",
       "      <td>3.106646</td>\n",
       "      <td>3.123364</td>\n",
       "      <td>-0.377571</td>\n",
       "    </tr>\n",
       "    <tr>\n",
       "      <th>11828</th>\n",
       "      <td>2025-05-21</td>\n",
       "      <td>3.572704</td>\n",
       "      <td>3.528644</td>\n",
       "      <td>3.542048</td>\n",
       "      <td>3.559730</td>\n",
       "      <td>-0.892336</td>\n",
       "      <td>1.055614</td>\n",
       "      <td>0.243043</td>\n",
       "      <td>0.265665</td>\n",
       "      <td>0.296570</td>\n",
       "      <td>...</td>\n",
       "      <td>0.652752</td>\n",
       "      <td>0.694243</td>\n",
       "      <td>0.660190</td>\n",
       "      <td>0.665820</td>\n",
       "      <td>-1.163256</td>\n",
       "      <td>3.046776</td>\n",
       "      <td>3.098161</td>\n",
       "      <td>3.095449</td>\n",
       "      <td>3.063010</td>\n",
       "      <td>-1.450645</td>\n",
       "    </tr>\n",
       "    <tr>\n",
       "      <th>11829</th>\n",
       "      <td>2025-05-22</td>\n",
       "      <td>3.539627</td>\n",
       "      <td>3.572488</td>\n",
       "      <td>3.571461</td>\n",
       "      <td>3.545846</td>\n",
       "      <td>1.216663</td>\n",
       "      <td>-0.672164</td>\n",
       "      <td>0.229578</td>\n",
       "      <td>0.235963</td>\n",
       "      <td>0.218471</td>\n",
       "      <td>...</td>\n",
       "      <td>0.690804</td>\n",
       "      <td>0.660944</td>\n",
       "      <td>0.672512</td>\n",
       "      <td>0.675371</td>\n",
       "      <td>0.809768</td>\n",
       "      <td>3.044785</td>\n",
       "      <td>3.045360</td>\n",
       "      <td>3.049498</td>\n",
       "      <td>3.059089</td>\n",
       "      <td>-0.069722</td>\n",
       "    </tr>\n",
       "    <tr>\n",
       "      <th>11830</th>\n",
       "      <td>2025-05-23</td>\n",
       "      <td>3.539627</td>\n",
       "      <td>3.572488</td>\n",
       "      <td>3.571461</td>\n",
       "      <td>3.545846</td>\n",
       "      <td>1.216663</td>\n",
       "      <td>-0.672164</td>\n",
       "      <td>0.239591</td>\n",
       "      <td>0.216622</td>\n",
       "      <td>0.220176</td>\n",
       "      <td>...</td>\n",
       "      <td>0.609944</td>\n",
       "      <td>0.683778</td>\n",
       "      <td>0.655451</td>\n",
       "      <td>0.638120</td>\n",
       "      <td>-1.759273</td>\n",
       "      <td>3.014769</td>\n",
       "      <td>2.999875</td>\n",
       "      <td>3.012480</td>\n",
       "      <td>3.014095</td>\n",
       "      <td>-0.623851</td>\n",
       "    </tr>\n",
       "  </tbody>\n",
       "</table>\n",
       "<p>11831 rows × 23 columns</p>\n",
       "</div>"
      ],
      "text/plain": [
       "             date  gold_last  gold_open  gold_high  gold_low  gold_volume  \\\n",
       "0      1993-01-01  -1.005875  -1.005380  -1.008479 -1.002401    -0.738055   \n",
       "1      1993-01-02  -1.005875  -1.005380  -1.008479 -1.002401    -0.738055   \n",
       "2      1993-01-03  -1.005875  -1.005380  -1.008479 -1.002401    -0.738055   \n",
       "3      1993-01-04  -1.013075  -1.011814  -1.014711 -1.012439    -0.794728   \n",
       "4      1993-01-05  -1.012156  -1.011968  -1.014559 -1.009351    -0.735929   \n",
       "...           ...        ...        ...        ...       ...          ...   \n",
       "11826  2025-05-19   3.437670   3.416814   3.429109  3.439422     1.015917   \n",
       "11827  2025-05-20   3.515957   3.436729   3.498423  3.436796     1.430062   \n",
       "11828  2025-05-21   3.572704   3.528644   3.542048  3.559730    -0.892336   \n",
       "11829  2025-05-22   3.539627   3.572488   3.571461  3.545846     1.216663   \n",
       "11830  2025-05-23   3.539627   3.572488   3.571461  3.545846     1.216663   \n",
       "\n",
       "       gold_change_percent  oil_last  oil_open  oil_high  ...  dxy_last  \\\n",
       "0                -0.099473 -1.190848 -1.187313 -1.197895  ... -0.032182   \n",
       "1                -0.099473 -1.190848 -1.187313 -1.197895  ... -0.032182   \n",
       "2                -0.099473 -1.190848 -1.187313 -1.197895  ... -0.032182   \n",
       "3                -1.409866 -1.206730 -1.192839 -1.203351  ...  0.072461   \n",
       "4                 0.133485 -1.199134 -1.205618 -1.210513  ... -0.006497   \n",
       "...                    ...       ...       ...       ...  ...       ...   \n",
       "11826            -0.186833  0.281368  0.276717  0.270310  ...  0.735515   \n",
       "11827             1.492411  0.277570  0.282588  0.267922  ...  0.706025   \n",
       "11828             1.055614  0.243043  0.265665  0.296570  ...  0.652752   \n",
       "11829            -0.672164  0.229578  0.235963  0.218471  ...  0.690804   \n",
       "11830            -0.672164  0.239591  0.216622  0.220176  ...  0.609944   \n",
       "\n",
       "       dxy_open  dxy_high   dxy_low  dxy_change_percent  sp500_last  \\\n",
       "0     -0.049746 -0.056348 -0.040998           -0.012325   -1.095979   \n",
       "1     -0.049746 -0.056348 -0.040998           -0.012325   -1.095979   \n",
       "2     -0.049746 -0.056348 -0.040998           -0.012325   -1.095979   \n",
       "3     -0.028816  0.057388  0.001029            2.433403   -1.096209   \n",
       "4      0.063470  0.056441 -0.010433           -1.841483   -1.097052   \n",
       "...         ...       ...       ...                 ...         ...   \n",
       "11826  0.780820  0.746440  0.734591           -1.368779    3.137912   \n",
       "11827  0.736104  0.716110  0.729815           -0.649447    3.120189   \n",
       "11828  0.694243  0.660190  0.665820           -1.163256    3.046776   \n",
       "11829  0.660944  0.672512  0.675371            0.809768    3.044785   \n",
       "11830  0.683778  0.655451  0.638120           -1.759273    3.014769   \n",
       "\n",
       "       sp500_open  sp500_high  sp500_low  sp500_change_percent  \n",
       "0       -1.093477   -1.095537  -1.093006             -0.659033  \n",
       "1       -1.093477   -1.095537  -1.093006             -0.659033  \n",
       "2       -1.093477   -1.095537  -1.093006             -0.659033  \n",
       "3       -1.095929   -1.097290  -1.093931             -0.096109  \n",
       "4       -1.096235   -1.098738  -1.094624             -0.254432  \n",
       "...           ...         ...        ...                   ...  \n",
       "11826    3.092568    3.118497   3.112911              0.044622  \n",
       "11827    3.124576    3.106646   3.123364             -0.377571  \n",
       "11828    3.098161    3.095449   3.063010             -1.450645  \n",
       "11829    3.045360    3.049498   3.059089             -0.069722  \n",
       "11830    2.999875    3.012480   3.014095             -0.623851  \n",
       "\n",
       "[11831 rows x 23 columns]"
      ]
     },
     "execution_count": 8,
     "metadata": {},
     "output_type": "execute_result"
    }
   ],
   "source": [
    "df"
   ]
  },
  {
   "cell_type": "code",
   "execution_count": 9,
   "metadata": {
    "execution": {
     "iopub.execute_input": "2025-06-02T08:10:52.508553Z",
     "iopub.status.busy": "2025-06-02T08:10:52.508007Z",
     "iopub.status.idle": "2025-06-02T08:10:52.518594Z",
     "shell.execute_reply": "2025-06-02T08:10:52.517730Z",
     "shell.execute_reply.started": "2025-06-02T08:10:52.508529Z"
    },
    "trusted": true
   },
   "outputs": [],
   "source": [
    "# Lấy dữ liệu features và target\n",
    "df_features = df[features].copy()\n",
    "df_target = df[target].copy()"
   ]
  },
  {
   "cell_type": "code",
   "execution_count": 10,
   "metadata": {
    "execution": {
     "iopub.execute_input": "2025-06-02T08:11:03.497623Z",
     "iopub.status.busy": "2025-06-02T08:11:03.497067Z",
     "iopub.status.idle": "2025-06-02T08:11:03.508605Z",
     "shell.execute_reply": "2025-06-02T08:11:03.508031Z",
     "shell.execute_reply.started": "2025-06-02T08:11:03.497602Z"
    },
    "trusted": true
   },
   "outputs": [
    {
     "name": "stderr",
     "output_type": "stream",
     "text": [
      "/tmp/ipykernel_35/2924334765.py:2: FutureWarning: DataFrame.fillna with 'method' is deprecated and will raise in a future version. Use obj.ffill() or obj.bfill() instead.\n",
      "  df_features = df_features.fillna(method='ffill').fillna(method='bfill')\n",
      "/tmp/ipykernel_35/2924334765.py:3: FutureWarning: Series.fillna with 'method' is deprecated and will raise in a future version. Use obj.ffill() or obj.bfill() instead.\n",
      "  df_target = df_target.fillna(method='ffill').fillna(method='bfill')\n"
     ]
    }
   ],
   "source": [
    "# Xử lý giá trị missing nếu có\n",
    "df_features = df_features.fillna(method='ffill').fillna(method='bfill')\n",
    "df_target = df_target.fillna(method='ffill').fillna(method='bfill')"
   ]
  },
  {
   "cell_type": "code",
   "execution_count": 11,
   "metadata": {
    "execution": {
     "iopub.execute_input": "2025-06-02T08:11:15.713429Z",
     "iopub.status.busy": "2025-06-02T08:11:15.712804Z",
     "iopub.status.idle": "2025-06-02T08:11:15.717276Z",
     "shell.execute_reply": "2025-06-02T08:11:15.716580Z",
     "shell.execute_reply.started": "2025-06-02T08:11:15.713404Z"
    },
    "trusted": true
   },
   "outputs": [
    {
     "name": "stdout",
     "output_type": "stream",
     "text": [
      "Features shape: (11831, 6)\n",
      "Target shape: (11831,)\n"
     ]
    }
   ],
   "source": [
    "print(\"Features shape:\", df_features.shape)\n",
    "print(\"Target shape:\", df_target.shape)"
   ]
  },
  {
   "cell_type": "code",
   "execution_count": 12,
   "metadata": {
    "execution": {
     "iopub.execute_input": "2025-06-02T08:11:21.459193Z",
     "iopub.status.busy": "2025-06-02T08:11:21.458909Z",
     "iopub.status.idle": "2025-06-02T08:11:21.470168Z",
     "shell.execute_reply": "2025-06-02T08:11:21.469402Z",
     "shell.execute_reply.started": "2025-06-02T08:11:21.459159Z"
    },
    "trusted": true
   },
   "outputs": [
    {
     "data": {
      "text/html": [
       "<div>\n",
       "<style scoped>\n",
       "    .dataframe tbody tr th:only-of-type {\n",
       "        vertical-align: middle;\n",
       "    }\n",
       "\n",
       "    .dataframe tbody tr th {\n",
       "        vertical-align: top;\n",
       "    }\n",
       "\n",
       "    .dataframe thead th {\n",
       "        text-align: right;\n",
       "    }\n",
       "</style>\n",
       "<table border=\"1\" class=\"dataframe\">\n",
       "  <thead>\n",
       "    <tr style=\"text-align: right;\">\n",
       "      <th></th>\n",
       "      <th>gold_last</th>\n",
       "      <th>gold_open</th>\n",
       "      <th>gold_high</th>\n",
       "      <th>gold_low</th>\n",
       "      <th>gold_volume</th>\n",
       "      <th>gold_change_percent</th>\n",
       "    </tr>\n",
       "  </thead>\n",
       "  <tbody>\n",
       "    <tr>\n",
       "      <th>0</th>\n",
       "      <td>-1.005875</td>\n",
       "      <td>-1.005380</td>\n",
       "      <td>-1.008479</td>\n",
       "      <td>-1.002401</td>\n",
       "      <td>-0.738055</td>\n",
       "      <td>-0.099473</td>\n",
       "    </tr>\n",
       "    <tr>\n",
       "      <th>1</th>\n",
       "      <td>-1.005875</td>\n",
       "      <td>-1.005380</td>\n",
       "      <td>-1.008479</td>\n",
       "      <td>-1.002401</td>\n",
       "      <td>-0.738055</td>\n",
       "      <td>-0.099473</td>\n",
       "    </tr>\n",
       "    <tr>\n",
       "      <th>2</th>\n",
       "      <td>-1.005875</td>\n",
       "      <td>-1.005380</td>\n",
       "      <td>-1.008479</td>\n",
       "      <td>-1.002401</td>\n",
       "      <td>-0.738055</td>\n",
       "      <td>-0.099473</td>\n",
       "    </tr>\n",
       "    <tr>\n",
       "      <th>3</th>\n",
       "      <td>-1.013075</td>\n",
       "      <td>-1.011814</td>\n",
       "      <td>-1.014711</td>\n",
       "      <td>-1.012439</td>\n",
       "      <td>-0.794728</td>\n",
       "      <td>-1.409866</td>\n",
       "    </tr>\n",
       "    <tr>\n",
       "      <th>4</th>\n",
       "      <td>-1.012156</td>\n",
       "      <td>-1.011968</td>\n",
       "      <td>-1.014559</td>\n",
       "      <td>-1.009351</td>\n",
       "      <td>-0.735929</td>\n",
       "      <td>0.133485</td>\n",
       "    </tr>\n",
       "    <tr>\n",
       "      <th>...</th>\n",
       "      <td>...</td>\n",
       "      <td>...</td>\n",
       "      <td>...</td>\n",
       "      <td>...</td>\n",
       "      <td>...</td>\n",
       "      <td>...</td>\n",
       "    </tr>\n",
       "    <tr>\n",
       "      <th>11826</th>\n",
       "      <td>3.437670</td>\n",
       "      <td>3.416814</td>\n",
       "      <td>3.429109</td>\n",
       "      <td>3.439422</td>\n",
       "      <td>1.015917</td>\n",
       "      <td>-0.186833</td>\n",
       "    </tr>\n",
       "    <tr>\n",
       "      <th>11827</th>\n",
       "      <td>3.515957</td>\n",
       "      <td>3.436729</td>\n",
       "      <td>3.498423</td>\n",
       "      <td>3.436796</td>\n",
       "      <td>1.430062</td>\n",
       "      <td>1.492411</td>\n",
       "    </tr>\n",
       "    <tr>\n",
       "      <th>11828</th>\n",
       "      <td>3.572704</td>\n",
       "      <td>3.528644</td>\n",
       "      <td>3.542048</td>\n",
       "      <td>3.559730</td>\n",
       "      <td>-0.892336</td>\n",
       "      <td>1.055614</td>\n",
       "    </tr>\n",
       "    <tr>\n",
       "      <th>11829</th>\n",
       "      <td>3.539627</td>\n",
       "      <td>3.572488</td>\n",
       "      <td>3.571461</td>\n",
       "      <td>3.545846</td>\n",
       "      <td>1.216663</td>\n",
       "      <td>-0.672164</td>\n",
       "    </tr>\n",
       "    <tr>\n",
       "      <th>11830</th>\n",
       "      <td>3.539627</td>\n",
       "      <td>3.572488</td>\n",
       "      <td>3.571461</td>\n",
       "      <td>3.545846</td>\n",
       "      <td>1.216663</td>\n",
       "      <td>-0.672164</td>\n",
       "    </tr>\n",
       "  </tbody>\n",
       "</table>\n",
       "<p>11831 rows × 6 columns</p>\n",
       "</div>"
      ],
      "text/plain": [
       "       gold_last  gold_open  gold_high  gold_low  gold_volume  \\\n",
       "0      -1.005875  -1.005380  -1.008479 -1.002401    -0.738055   \n",
       "1      -1.005875  -1.005380  -1.008479 -1.002401    -0.738055   \n",
       "2      -1.005875  -1.005380  -1.008479 -1.002401    -0.738055   \n",
       "3      -1.013075  -1.011814  -1.014711 -1.012439    -0.794728   \n",
       "4      -1.012156  -1.011968  -1.014559 -1.009351    -0.735929   \n",
       "...          ...        ...        ...       ...          ...   \n",
       "11826   3.437670   3.416814   3.429109  3.439422     1.015917   \n",
       "11827   3.515957   3.436729   3.498423  3.436796     1.430062   \n",
       "11828   3.572704   3.528644   3.542048  3.559730    -0.892336   \n",
       "11829   3.539627   3.572488   3.571461  3.545846     1.216663   \n",
       "11830   3.539627   3.572488   3.571461  3.545846     1.216663   \n",
       "\n",
       "       gold_change_percent  \n",
       "0                -0.099473  \n",
       "1                -0.099473  \n",
       "2                -0.099473  \n",
       "3                -1.409866  \n",
       "4                 0.133485  \n",
       "...                    ...  \n",
       "11826            -0.186833  \n",
       "11827             1.492411  \n",
       "11828             1.055614  \n",
       "11829            -0.672164  \n",
       "11830            -0.672164  \n",
       "\n",
       "[11831 rows x 6 columns]"
      ]
     },
     "execution_count": 12,
     "metadata": {},
     "output_type": "execute_result"
    }
   ],
   "source": [
    "df_features"
   ]
  },
  {
   "cell_type": "code",
   "execution_count": 13,
   "metadata": {
    "execution": {
     "iopub.execute_input": "2025-06-02T08:11:28.772332Z",
     "iopub.status.busy": "2025-06-02T08:11:28.771775Z",
     "iopub.status.idle": "2025-06-02T08:11:28.778045Z",
     "shell.execute_reply": "2025-06-02T08:11:28.777434Z",
     "shell.execute_reply.started": "2025-06-02T08:11:28.772310Z"
    },
    "trusted": true
   },
   "outputs": [
    {
     "data": {
      "text/plain": [
       "0       -1.005380\n",
       "1       -1.005380\n",
       "2       -1.005380\n",
       "3       -1.011814\n",
       "4       -1.011968\n",
       "           ...   \n",
       "11826    3.416814\n",
       "11827    3.436729\n",
       "11828    3.528644\n",
       "11829    3.572488\n",
       "11830    3.572488\n",
       "Name: gold_open, Length: 11831, dtype: float64"
      ]
     },
     "execution_count": 13,
     "metadata": {},
     "output_type": "execute_result"
    }
   ],
   "source": [
    "df_target"
   ]
  },
  {
   "cell_type": "code",
   "execution_count": 14,
   "metadata": {
    "execution": {
     "iopub.execute_input": "2025-06-02T08:11:49.382584Z",
     "iopub.status.busy": "2025-06-02T08:11:49.381915Z",
     "iopub.status.idle": "2025-06-02T08:11:49.391023Z",
     "shell.execute_reply": "2025-06-02T08:11:49.390471Z",
     "shell.execute_reply.started": "2025-06-02T08:11:49.382566Z"
    },
    "trusted": true
   },
   "outputs": [],
   "source": [
    "# Chuẩn hóa dữ liệu features\n",
    "scaler_features = MinMaxScaler(feature_range=(0, 1))\n",
    "scaled_features = scaler_features.fit_transform(df_features)"
   ]
  },
  {
   "cell_type": "code",
   "execution_count": 15,
   "metadata": {
    "execution": {
     "iopub.execute_input": "2025-06-02T08:11:54.739560Z",
     "iopub.status.busy": "2025-06-02T08:11:54.738884Z",
     "iopub.status.idle": "2025-06-02T08:11:54.744001Z",
     "shell.execute_reply": "2025-06-02T08:11:54.743382Z",
     "shell.execute_reply.started": "2025-06-02T08:11:54.739538Z"
    },
    "trusted": true
   },
   "outputs": [],
   "source": [
    "# Chuẩn hóa dữ liệu target\n",
    "scaler_target = MinMaxScaler(feature_range=(0, 1))\n",
    "scaled_target = scaler_target.fit_transform(df_target.values.reshape(-1, 1))"
   ]
  },
  {
   "cell_type": "code",
   "execution_count": 16,
   "metadata": {
    "execution": {
     "iopub.execute_input": "2025-06-02T08:12:21.696304Z",
     "iopub.status.busy": "2025-06-02T08:12:21.695945Z",
     "iopub.status.idle": "2025-06-02T08:12:21.701279Z",
     "shell.execute_reply": "2025-06-02T08:12:21.700621Z",
     "shell.execute_reply.started": "2025-06-02T08:12:21.696282Z"
    },
    "trusted": true
   },
   "outputs": [
    {
     "data": {
      "text/plain": [
       "array([[0.0249732 , 0.02485755, 0.02426737, 0.02552865, 0.02471434,\n",
       "        0.49973075],\n",
       "       [0.0249732 , 0.02485755, 0.02426737, 0.02552865, 0.02471434,\n",
       "        0.49973075],\n",
       "       [0.0249732 , 0.02485755, 0.02426737, 0.02552865, 0.02471434,\n",
       "        0.49973075],\n",
       "       ...,\n",
       "       [0.96731412, 0.95144324, 0.94387786, 0.97053649, 0.00694402,\n",
       "        0.5638126 ],\n",
       "       [0.9605064 , 0.96040323, 0.94982183, 0.96766051, 0.24986222,\n",
       "        0.46795907],\n",
       "       [0.9605064 , 0.96040323, 0.94982183, 0.96766051, 0.24986222,\n",
       "        0.46795907]])"
      ]
     },
     "execution_count": 16,
     "metadata": {},
     "output_type": "execute_result"
    }
   ],
   "source": [
    "scaled_features"
   ]
  },
  {
   "cell_type": "code",
   "execution_count": 17,
   "metadata": {
    "execution": {
     "iopub.execute_input": "2025-06-02T08:12:30.224701Z",
     "iopub.status.busy": "2025-06-02T08:12:30.224012Z",
     "iopub.status.idle": "2025-06-02T08:12:30.229350Z",
     "shell.execute_reply": "2025-06-02T08:12:30.228598Z",
     "shell.execute_reply.started": "2025-06-02T08:12:30.224681Z"
    },
    "trusted": true
   },
   "outputs": [
    {
     "data": {
      "text/plain": [
       "array([[0.02485755],\n",
       "       [0.02485755],\n",
       "       [0.02485755],\n",
       "       ...,\n",
       "       [0.95144324],\n",
       "       [0.96040323],\n",
       "       [0.96040323]])"
      ]
     },
     "execution_count": 17,
     "metadata": {},
     "output_type": "execute_result"
    }
   ],
   "source": [
    "scaled_target"
   ]
  },
  {
   "cell_type": "code",
   "execution_count": 18,
   "metadata": {
    "execution": {
     "iopub.execute_input": "2025-06-02T08:12:37.256368Z",
     "iopub.status.busy": "2025-06-02T08:12:37.255666Z",
     "iopub.status.idle": "2025-06-02T08:12:37.260342Z",
     "shell.execute_reply": "2025-06-02T08:12:37.259608Z",
     "shell.execute_reply.started": "2025-06-02T08:12:37.256343Z"
    },
    "trusted": true
   },
   "outputs": [
    {
     "name": "stdout",
     "output_type": "stream",
     "text": [
      "Scaled features shape: (11831, 6)\n",
      "Scaled target shape: (11831, 1)\n"
     ]
    }
   ],
   "source": [
    "print(\"Scaled features shape:\", scaled_features.shape)\n",
    "print(\"Scaled target shape:\", scaled_target.shape)"
   ]
  },
  {
   "cell_type": "code",
   "execution_count": 20,
   "metadata": {
    "execution": {
     "iopub.execute_input": "2025-06-02T08:13:09.857118Z",
     "iopub.status.busy": "2025-06-02T08:13:09.856660Z",
     "iopub.status.idle": "2025-06-02T08:13:09.861022Z",
     "shell.execute_reply": "2025-06-02T08:13:09.860499Z",
     "shell.execute_reply.started": "2025-06-02T08:13:09.857097Z"
    },
    "trusted": true
   },
   "outputs": [],
   "source": [
    "# Chia dữ liệu train/test\n",
    "training_size = int(len(scaled_features) * 0.65)\n",
    "test_size = len(scaled_features) - training_size\n",
    "train_features = scaled_features[0:training_size]\n",
    "test_features = scaled_features[training_size:]\n",
    "train_target = scaled_target[0:training_size]\n",
    "test_target = scaled_target[training_size:]"
   ]
  },
  {
   "cell_type": "code",
   "execution_count": 21,
   "metadata": {
    "execution": {
     "iopub.execute_input": "2025-06-02T08:13:17.976997Z",
     "iopub.status.busy": "2025-06-02T08:13:17.976346Z",
     "iopub.status.idle": "2025-06-02T08:13:17.980743Z",
     "shell.execute_reply": "2025-06-02T08:13:17.980170Z",
     "shell.execute_reply.started": "2025-06-02T08:13:17.976972Z"
    },
    "trusted": true
   },
   "outputs": [
    {
     "name": "stdout",
     "output_type": "stream",
     "text": [
      "Training size: 7690, Test size: 4141\n"
     ]
    }
   ],
   "source": [
    "print(f\"Training size: {training_size}, Test size: {test_size}\")"
   ]
  },
  {
   "cell_type": "code",
   "execution_count": 22,
   "metadata": {
    "execution": {
     "iopub.execute_input": "2025-06-02T08:14:00.859790Z",
     "iopub.status.busy": "2025-06-02T08:14:00.859064Z",
     "iopub.status.idle": "2025-06-02T08:14:00.864161Z",
     "shell.execute_reply": "2025-06-02T08:14:00.863388Z",
     "shell.execute_reply.started": "2025-06-02T08:14:00.859769Z"
    },
    "trusted": true
   },
   "outputs": [],
   "source": [
    "# Hàm tạo dataset với nhiều features\n",
    "def create_multifeature_dataset(features, target, time_step=1):\n",
    "    dataX, dataY = [], []\n",
    "    for i in range(len(features) - time_step - 1):\n",
    "        # Lấy time_step mẫu features\n",
    "        a = features[i:(i + time_step)]\n",
    "        dataX.append(a)\n",
    "        # Target là giá trị tiếp theo\n",
    "        dataY.append(target[i + time_step, 0])\n",
    "    return np.array(dataX), np.array(dataY)"
   ]
  },
  {
   "cell_type": "code",
   "execution_count": null,
   "metadata": {},
   "outputs": [],
   "source": [
    "# Giả sử có data 5 ngày:\n",
    "# df = pd.DataFrame({\n",
    "#     'gold_last': [2000, 2010, 2020, 2015, 2025],\n",
    "#     'gold_open': [2005, 2015, 2018, 2020, 2030],\n",
    "#     'gold_high': [2010, 2020, 2025, 2025, 2035],\n",
    "#     'gold_low': [1995, 2005, 2010, 2010, 2020],\n",
    "#     'gold_volume': [1000, 1200, 800, 1500, 900],\n",
    "#     'gold_change_percent': [0.5, 1.0, -0.2, 0.8, 0.3]\n",
    "# })\n",
    "\n",
    "# Tách riêng:\n",
    "# df_features = df[['gold_last', 'gold_open', 'gold_high', 'gold_low', 'gold_volume', 'gold_change_percent']]\n",
    "# Shape: (5, 6) - 5 ngày, 6 features\n",
    "\n",
    "# df_target = df['gold_open'] \n",
    "# Shape: (5,) - 5 giá trị target\n",
    "\n",
    "# Khi tạo time series với time_step=2:\n",
    "# X[0] = [[2000, 2005, 2010, 1995, 1000, 0.5],    # Ngày 1\n",
    "#         [2010, 2015, 2020, 2005, 1200, 1.0]]    # Ngày 2\n",
    "# y[0] = 2018  # gold_open của ngày 3\n",
    "\n",
    "# X[1] = [[2010, 2015, 2020, 2005, 1200, 1.0],    # Ngày 2  \n",
    "#         [2020, 2018, 2025, 2010, 800, -0.2]]    # Ngày 3\n",
    "# y[1] = 2020  # gold_open của ngày 4"
   ]
  },
  {
   "cell_type": "code",
   "execution_count": 23,
   "metadata": {
    "execution": {
     "iopub.execute_input": "2025-06-02T08:14:15.525770Z",
     "iopub.status.busy": "2025-06-02T08:14:15.525075Z",
     "iopub.status.idle": "2025-06-02T08:14:15.559105Z",
     "shell.execute_reply": "2025-06-02T08:14:15.558503Z",
     "shell.execute_reply.started": "2025-06-02T08:14:15.525746Z"
    },
    "trusted": true
   },
   "outputs": [
    {
     "name": "stdout",
     "output_type": "stream",
     "text": [
      "X_train shape: (7589, 100, 6)\n",
      "y_train shape: (7589,)\n",
      "X_test shape: (4040, 100, 6)\n",
      "y_test shape: (4040,)\n"
     ]
    }
   ],
   "source": [
    "# Tạo dataset với time_step = 100\n",
    "time_step = 100\n",
    "X_train, y_train = create_multifeature_dataset(train_features, train_target, time_step)\n",
    "X_test, y_test = create_multifeature_dataset(test_features, test_target, time_step)\n",
    "\n",
    "print(\"X_train shape:\", X_train.shape)\n",
    "print(\"y_train shape:\", y_train.shape)\n",
    "print(\"X_test shape:\", X_test.shape)\n",
    "print(\"y_test shape:\", y_test.shape)"
   ]
  },
  {
   "cell_type": "code",
   "execution_count": 24,
   "metadata": {
    "execution": {
     "iopub.execute_input": "2025-06-02T08:16:53.565263Z",
     "iopub.status.busy": "2025-06-02T08:16:53.564747Z",
     "iopub.status.idle": "2025-06-02T08:16:57.572686Z",
     "shell.execute_reply": "2025-06-02T08:16:57.572171Z",
     "shell.execute_reply.started": "2025-06-02T08:16:53.565239Z"
    },
    "trusted": true
   },
   "outputs": [
    {
     "name": "stderr",
     "output_type": "stream",
     "text": [
      "I0000 00:00:1748852215.641283      35 gpu_device.cc:2022] Created device /job:localhost/replica:0/task:0/device:GPU:0 with 15513 MB memory:  -> device: 0, name: Tesla P100-PCIE-16GB, pci bus id: 0000:00:04.0, compute capability: 6.0\n",
      "/usr/local/lib/python3.11/dist-packages/keras/src/layers/rnn/rnn.py:200: UserWarning: Do not pass an `input_shape`/`input_dim` argument to a layer. When using Sequential models, prefer using an `Input(shape)` object as the first layer in the model instead.\n",
      "  super().__init__(**kwargs)\n"
     ]
    }
   ],
   "source": [
    "model = Sequential()\n",
    "model.add(LSTM(50, return_sequences=True, input_shape=(time_step, len(features))))\n",
    "model.add(LSTM(50, return_sequences=True))\n",
    "model.add(LSTM(50))\n",
    "model.add(Dense(1))\n",
    "\n",
    "model.compile(loss='mean_squared_error', optimizer='adam')"
   ]
  },
  {
   "cell_type": "code",
   "execution_count": 25,
   "metadata": {
    "execution": {
     "iopub.execute_input": "2025-06-02T08:17:15.928658Z",
     "iopub.status.busy": "2025-06-02T08:17:15.928064Z",
     "iopub.status.idle": "2025-06-02T08:17:15.943224Z",
     "shell.execute_reply": "2025-06-02T08:17:15.942564Z",
     "shell.execute_reply.started": "2025-06-02T08:17:15.928637Z"
    },
    "trusted": true
   },
   "outputs": [
    {
     "data": {
      "text/html": [
       "<pre style=\"white-space:pre;overflow-x:auto;line-height:normal;font-family:Menlo,'DejaVu Sans Mono',consolas,'Courier New',monospace\"><span style=\"font-weight: bold\">Model: \"sequential\"</span>\n",
       "</pre>\n"
      ],
      "text/plain": [
       "\u001b[1mModel: \"sequential\"\u001b[0m\n"
      ]
     },
     "metadata": {},
     "output_type": "display_data"
    },
    {
     "data": {
      "text/html": [
       "<pre style=\"white-space:pre;overflow-x:auto;line-height:normal;font-family:Menlo,'DejaVu Sans Mono',consolas,'Courier New',monospace\">┏━━━━━━━━━━━━━━━━━━━━━━━━━━━━━━━━━━━━━━┳━━━━━━━━━━━━━━━━━━━━━━━━━━━━━┳━━━━━━━━━━━━━━━━━┓\n",
       "┃<span style=\"font-weight: bold\"> Layer (type)                         </span>┃<span style=\"font-weight: bold\"> Output Shape                </span>┃<span style=\"font-weight: bold\">         Param # </span>┃\n",
       "┡━━━━━━━━━━━━━━━━━━━━━━━━━━━━━━━━━━━━━━╇━━━━━━━━━━━━━━━━━━━━━━━━━━━━━╇━━━━━━━━━━━━━━━━━┩\n",
       "│ lstm (<span style=\"color: #0087ff; text-decoration-color: #0087ff\">LSTM</span>)                          │ (<span style=\"color: #00d7ff; text-decoration-color: #00d7ff\">None</span>, <span style=\"color: #00af00; text-decoration-color: #00af00\">100</span>, <span style=\"color: #00af00; text-decoration-color: #00af00\">50</span>)             │          <span style=\"color: #00af00; text-decoration-color: #00af00\">11,400</span> │\n",
       "├──────────────────────────────────────┼─────────────────────────────┼─────────────────┤\n",
       "│ lstm_1 (<span style=\"color: #0087ff; text-decoration-color: #0087ff\">LSTM</span>)                        │ (<span style=\"color: #00d7ff; text-decoration-color: #00d7ff\">None</span>, <span style=\"color: #00af00; text-decoration-color: #00af00\">100</span>, <span style=\"color: #00af00; text-decoration-color: #00af00\">50</span>)             │          <span style=\"color: #00af00; text-decoration-color: #00af00\">20,200</span> │\n",
       "├──────────────────────────────────────┼─────────────────────────────┼─────────────────┤\n",
       "│ lstm_2 (<span style=\"color: #0087ff; text-decoration-color: #0087ff\">LSTM</span>)                        │ (<span style=\"color: #00d7ff; text-decoration-color: #00d7ff\">None</span>, <span style=\"color: #00af00; text-decoration-color: #00af00\">50</span>)                  │          <span style=\"color: #00af00; text-decoration-color: #00af00\">20,200</span> │\n",
       "├──────────────────────────────────────┼─────────────────────────────┼─────────────────┤\n",
       "│ dense (<span style=\"color: #0087ff; text-decoration-color: #0087ff\">Dense</span>)                        │ (<span style=\"color: #00d7ff; text-decoration-color: #00d7ff\">None</span>, <span style=\"color: #00af00; text-decoration-color: #00af00\">1</span>)                   │              <span style=\"color: #00af00; text-decoration-color: #00af00\">51</span> │\n",
       "└──────────────────────────────────────┴─────────────────────────────┴─────────────────┘\n",
       "</pre>\n"
      ],
      "text/plain": [
       "┏━━━━━━━━━━━━━━━━━━━━━━━━━━━━━━━━━━━━━━┳━━━━━━━━━━━━━━━━━━━━━━━━━━━━━┳━━━━━━━━━━━━━━━━━┓\n",
       "┃\u001b[1m \u001b[0m\u001b[1mLayer (type)                        \u001b[0m\u001b[1m \u001b[0m┃\u001b[1m \u001b[0m\u001b[1mOutput Shape               \u001b[0m\u001b[1m \u001b[0m┃\u001b[1m \u001b[0m\u001b[1m        Param #\u001b[0m\u001b[1m \u001b[0m┃\n",
       "┡━━━━━━━━━━━━━━━━━━━━━━━━━━━━━━━━━━━━━━╇━━━━━━━━━━━━━━━━━━━━━━━━━━━━━╇━━━━━━━━━━━━━━━━━┩\n",
       "│ lstm (\u001b[38;5;33mLSTM\u001b[0m)                          │ (\u001b[38;5;45mNone\u001b[0m, \u001b[38;5;34m100\u001b[0m, \u001b[38;5;34m50\u001b[0m)             │          \u001b[38;5;34m11,400\u001b[0m │\n",
       "├──────────────────────────────────────┼─────────────────────────────┼─────────────────┤\n",
       "│ lstm_1 (\u001b[38;5;33mLSTM\u001b[0m)                        │ (\u001b[38;5;45mNone\u001b[0m, \u001b[38;5;34m100\u001b[0m, \u001b[38;5;34m50\u001b[0m)             │          \u001b[38;5;34m20,200\u001b[0m │\n",
       "├──────────────────────────────────────┼─────────────────────────────┼─────────────────┤\n",
       "│ lstm_2 (\u001b[38;5;33mLSTM\u001b[0m)                        │ (\u001b[38;5;45mNone\u001b[0m, \u001b[38;5;34m50\u001b[0m)                  │          \u001b[38;5;34m20,200\u001b[0m │\n",
       "├──────────────────────────────────────┼─────────────────────────────┼─────────────────┤\n",
       "│ dense (\u001b[38;5;33mDense\u001b[0m)                        │ (\u001b[38;5;45mNone\u001b[0m, \u001b[38;5;34m1\u001b[0m)                   │              \u001b[38;5;34m51\u001b[0m │\n",
       "└──────────────────────────────────────┴─────────────────────────────┴─────────────────┘\n"
      ]
     },
     "metadata": {},
     "output_type": "display_data"
    },
    {
     "data": {
      "text/html": [
       "<pre style=\"white-space:pre;overflow-x:auto;line-height:normal;font-family:Menlo,'DejaVu Sans Mono',consolas,'Courier New',monospace\"><span style=\"font-weight: bold\"> Total params: </span><span style=\"color: #00af00; text-decoration-color: #00af00\">51,851</span> (202.54 KB)\n",
       "</pre>\n"
      ],
      "text/plain": [
       "\u001b[1m Total params: \u001b[0m\u001b[38;5;34m51,851\u001b[0m (202.54 KB)\n"
      ]
     },
     "metadata": {},
     "output_type": "display_data"
    },
    {
     "data": {
      "text/html": [
       "<pre style=\"white-space:pre;overflow-x:auto;line-height:normal;font-family:Menlo,'DejaVu Sans Mono',consolas,'Courier New',monospace\"><span style=\"font-weight: bold\"> Trainable params: </span><span style=\"color: #00af00; text-decoration-color: #00af00\">51,851</span> (202.54 KB)\n",
       "</pre>\n"
      ],
      "text/plain": [
       "\u001b[1m Trainable params: \u001b[0m\u001b[38;5;34m51,851\u001b[0m (202.54 KB)\n"
      ]
     },
     "metadata": {},
     "output_type": "display_data"
    },
    {
     "data": {
      "text/html": [
       "<pre style=\"white-space:pre;overflow-x:auto;line-height:normal;font-family:Menlo,'DejaVu Sans Mono',consolas,'Courier New',monospace\"><span style=\"font-weight: bold\"> Non-trainable params: </span><span style=\"color: #00af00; text-decoration-color: #00af00\">0</span> (0.00 B)\n",
       "</pre>\n"
      ],
      "text/plain": [
       "\u001b[1m Non-trainable params: \u001b[0m\u001b[38;5;34m0\u001b[0m (0.00 B)\n"
      ]
     },
     "metadata": {},
     "output_type": "display_data"
    }
   ],
   "source": [
    "model.summary()"
   ]
  },
  {
   "cell_type": "code",
   "execution_count": 26,
   "metadata": {
    "execution": {
     "iopub.execute_input": "2025-06-02T08:18:14.553033Z",
     "iopub.status.busy": "2025-06-02T08:18:14.552506Z",
     "iopub.status.idle": "2025-06-02T08:22:41.685144Z",
     "shell.execute_reply": "2025-06-02T08:22:41.684584Z",
     "shell.execute_reply.started": "2025-06-02T08:18:14.553011Z"
    },
    "trusted": true
   },
   "outputs": [
    {
     "name": "stdout",
     "output_type": "stream",
     "text": [
      "Epoch 1/100\n"
     ]
    },
    {
     "name": "stderr",
     "output_type": "stream",
     "text": [
      "I0000 00:00:1748852298.723307     117 cuda_dnn.cc:529] Loaded cuDNN version 90300\n"
     ]
    },
    {
     "name": "stdout",
     "output_type": "stream",
     "text": [
      "\u001b[1m119/119\u001b[0m \u001b[32m━━━━━━━━━━━━━━━━━━━━\u001b[0m\u001b[37m\u001b[0m \u001b[1m9s\u001b[0m 33ms/step - loss: 0.0052 - val_loss: 8.0195e-04\n",
      "Epoch 2/100\n",
      "\u001b[1m119/119\u001b[0m \u001b[32m━━━━━━━━━━━━━━━━━━━━\u001b[0m\u001b[37m\u001b[0m \u001b[1m3s\u001b[0m 22ms/step - loss: 4.5077e-05 - val_loss: 5.2900e-04\n",
      "Epoch 3/100\n",
      "\u001b[1m119/119\u001b[0m \u001b[32m━━━━━━━━━━━━━━━━━━━━\u001b[0m\u001b[37m\u001b[0m \u001b[1m3s\u001b[0m 22ms/step - loss: 4.4406e-05 - val_loss: 8.5852e-04\n",
      "Epoch 4/100\n",
      "\u001b[1m119/119\u001b[0m \u001b[32m━━━━━━━━━━━━━━━━━━━━\u001b[0m\u001b[37m\u001b[0m \u001b[1m3s\u001b[0m 22ms/step - loss: 3.4189e-05 - val_loss: 5.4257e-04\n",
      "Epoch 5/100\n",
      "\u001b[1m119/119\u001b[0m \u001b[32m━━━━━━━━━━━━━━━━━━━━\u001b[0m\u001b[37m\u001b[0m \u001b[1m3s\u001b[0m 22ms/step - loss: 3.4716e-05 - val_loss: 4.4311e-04\n",
      "Epoch 6/100\n",
      "\u001b[1m119/119\u001b[0m \u001b[32m━━━━━━━━━━━━━━━━━━━━\u001b[0m\u001b[37m\u001b[0m \u001b[1m3s\u001b[0m 22ms/step - loss: 3.8848e-05 - val_loss: 6.1524e-04\n",
      "Epoch 7/100\n",
      "\u001b[1m119/119\u001b[0m \u001b[32m━━━━━━━━━━━━━━━━━━━━\u001b[0m\u001b[37m\u001b[0m \u001b[1m3s\u001b[0m 22ms/step - loss: 2.4634e-05 - val_loss: 3.9290e-04\n",
      "Epoch 8/100\n",
      "\u001b[1m119/119\u001b[0m \u001b[32m━━━━━━━━━━━━━━━━━━━━\u001b[0m\u001b[37m\u001b[0m \u001b[1m3s\u001b[0m 22ms/step - loss: 2.6804e-05 - val_loss: 2.6892e-04\n",
      "Epoch 9/100\n",
      "\u001b[1m119/119\u001b[0m \u001b[32m━━━━━━━━━━━━━━━━━━━━\u001b[0m\u001b[37m\u001b[0m \u001b[1m3s\u001b[0m 22ms/step - loss: 2.8365e-05 - val_loss: 2.4240e-04\n",
      "Epoch 10/100\n",
      "\u001b[1m119/119\u001b[0m \u001b[32m━━━━━━━━━━━━━━━━━━━━\u001b[0m\u001b[37m\u001b[0m \u001b[1m3s\u001b[0m 22ms/step - loss: 2.7132e-05 - val_loss: 1.7975e-04\n",
      "Epoch 11/100\n",
      "\u001b[1m119/119\u001b[0m \u001b[32m━━━━━━━━━━━━━━━━━━━━\u001b[0m\u001b[37m\u001b[0m \u001b[1m3s\u001b[0m 22ms/step - loss: 1.9968e-05 - val_loss: 1.8726e-04\n",
      "Epoch 12/100\n",
      "\u001b[1m119/119\u001b[0m \u001b[32m━━━━━━━━━━━━━━━━━━━━\u001b[0m\u001b[37m\u001b[0m \u001b[1m3s\u001b[0m 22ms/step - loss: 2.1782e-05 - val_loss: 2.8609e-04\n",
      "Epoch 13/100\n",
      "\u001b[1m119/119\u001b[0m \u001b[32m━━━━━━━━━━━━━━━━━━━━\u001b[0m\u001b[37m\u001b[0m \u001b[1m3s\u001b[0m 22ms/step - loss: 1.8221e-05 - val_loss: 2.7850e-04\n",
      "Epoch 14/100\n",
      "\u001b[1m119/119\u001b[0m \u001b[32m━━━━━━━━━━━━━━━━━━━━\u001b[0m\u001b[37m\u001b[0m \u001b[1m3s\u001b[0m 22ms/step - loss: 2.7674e-05 - val_loss: 1.6306e-04\n",
      "Epoch 15/100\n",
      "\u001b[1m119/119\u001b[0m \u001b[32m━━━━━━━━━━━━━━━━━━━━\u001b[0m\u001b[37m\u001b[0m \u001b[1m3s\u001b[0m 22ms/step - loss: 1.9619e-05 - val_loss: 1.6805e-04\n",
      "Epoch 16/100\n",
      "\u001b[1m119/119\u001b[0m \u001b[32m━━━━━━━━━━━━━━━━━━━━\u001b[0m\u001b[37m\u001b[0m \u001b[1m3s\u001b[0m 22ms/step - loss: 1.7198e-05 - val_loss: 1.5080e-04\n",
      "Epoch 17/100\n",
      "\u001b[1m119/119\u001b[0m \u001b[32m━━━━━━━━━━━━━━━━━━━━\u001b[0m\u001b[37m\u001b[0m \u001b[1m3s\u001b[0m 22ms/step - loss: 1.5336e-05 - val_loss: 1.2284e-04\n",
      "Epoch 18/100\n",
      "\u001b[1m119/119\u001b[0m \u001b[32m━━━━━━━━━━━━━━━━━━━━\u001b[0m\u001b[37m\u001b[0m \u001b[1m3s\u001b[0m 22ms/step - loss: 1.4843e-05 - val_loss: 1.7586e-04\n",
      "Epoch 19/100\n",
      "\u001b[1m119/119\u001b[0m \u001b[32m━━━━━━━━━━━━━━━━━━━━\u001b[0m\u001b[37m\u001b[0m \u001b[1m3s\u001b[0m 22ms/step - loss: 1.8019e-05 - val_loss: 2.0651e-04\n",
      "Epoch 20/100\n",
      "\u001b[1m119/119\u001b[0m \u001b[32m━━━━━━━━━━━━━━━━━━━━\u001b[0m\u001b[37m\u001b[0m \u001b[1m3s\u001b[0m 22ms/step - loss: 1.8718e-05 - val_loss: 1.3713e-04\n",
      "Epoch 21/100\n",
      "\u001b[1m119/119\u001b[0m \u001b[32m━━━━━━━━━━━━━━━━━━━━\u001b[0m\u001b[37m\u001b[0m \u001b[1m3s\u001b[0m 22ms/step - loss: 1.3258e-05 - val_loss: 2.0080e-04\n",
      "Epoch 22/100\n",
      "\u001b[1m119/119\u001b[0m \u001b[32m━━━━━━━━━━━━━━━━━━━━\u001b[0m\u001b[37m\u001b[0m \u001b[1m3s\u001b[0m 22ms/step - loss: 1.3687e-05 - val_loss: 1.9102e-04\n",
      "Epoch 23/100\n",
      "\u001b[1m119/119\u001b[0m \u001b[32m━━━━━━━━━━━━━━━━━━━━\u001b[0m\u001b[37m\u001b[0m \u001b[1m3s\u001b[0m 22ms/step - loss: 1.2333e-05 - val_loss: 1.1926e-04\n",
      "Epoch 24/100\n",
      "\u001b[1m119/119\u001b[0m \u001b[32m━━━━━━━━━━━━━━━━━━━━\u001b[0m\u001b[37m\u001b[0m \u001b[1m3s\u001b[0m 22ms/step - loss: 1.2091e-05 - val_loss: 2.4800e-04\n",
      "Epoch 25/100\n",
      "\u001b[1m119/119\u001b[0m \u001b[32m━━━━━━━━━━━━━━━━━━━━\u001b[0m\u001b[37m\u001b[0m \u001b[1m3s\u001b[0m 22ms/step - loss: 1.6708e-05 - val_loss: 1.2196e-04\n",
      "Epoch 26/100\n",
      "\u001b[1m119/119\u001b[0m \u001b[32m━━━━━━━━━━━━━━━━━━━━\u001b[0m\u001b[37m\u001b[0m \u001b[1m3s\u001b[0m 22ms/step - loss: 1.7931e-05 - val_loss: 1.7991e-04\n",
      "Epoch 27/100\n",
      "\u001b[1m119/119\u001b[0m \u001b[32m━━━━━━━━━━━━━━━━━━━━\u001b[0m\u001b[37m\u001b[0m \u001b[1m3s\u001b[0m 22ms/step - loss: 2.3712e-05 - val_loss: 2.2634e-04\n",
      "Epoch 28/100\n",
      "\u001b[1m119/119\u001b[0m \u001b[32m━━━━━━━━━━━━━━━━━━━━\u001b[0m\u001b[37m\u001b[0m \u001b[1m3s\u001b[0m 22ms/step - loss: 1.5466e-05 - val_loss: 2.6322e-04\n",
      "Epoch 29/100\n",
      "\u001b[1m119/119\u001b[0m \u001b[32m━━━━━━━━━━━━━━━━━━━━\u001b[0m\u001b[37m\u001b[0m \u001b[1m3s\u001b[0m 22ms/step - loss: 1.1951e-05 - val_loss: 8.5889e-05\n",
      "Epoch 30/100\n",
      "\u001b[1m119/119\u001b[0m \u001b[32m━━━━━━━━━━━━━━━━━━━━\u001b[0m\u001b[37m\u001b[0m \u001b[1m3s\u001b[0m 22ms/step - loss: 1.7078e-05 - val_loss: 2.1529e-04\n",
      "Epoch 31/100\n",
      "\u001b[1m119/119\u001b[0m \u001b[32m━━━━━━━━━━━━━━━━━━━━\u001b[0m\u001b[37m\u001b[0m \u001b[1m3s\u001b[0m 22ms/step - loss: 1.5647e-05 - val_loss: 1.5479e-04\n",
      "Epoch 32/100\n",
      "\u001b[1m119/119\u001b[0m \u001b[32m━━━━━━━━━━━━━━━━━━━━\u001b[0m\u001b[37m\u001b[0m \u001b[1m3s\u001b[0m 22ms/step - loss: 1.0660e-05 - val_loss: 1.8459e-04\n",
      "Epoch 33/100\n",
      "\u001b[1m119/119\u001b[0m \u001b[32m━━━━━━━━━━━━━━━━━━━━\u001b[0m\u001b[37m\u001b[0m \u001b[1m3s\u001b[0m 22ms/step - loss: 1.0607e-05 - val_loss: 2.1080e-04\n",
      "Epoch 34/100\n",
      "\u001b[1m119/119\u001b[0m \u001b[32m━━━━━━━━━━━━━━━━━━━━\u001b[0m\u001b[37m\u001b[0m \u001b[1m3s\u001b[0m 22ms/step - loss: 1.1269e-05 - val_loss: 1.7326e-04\n",
      "Epoch 35/100\n",
      "\u001b[1m119/119\u001b[0m \u001b[32m━━━━━━━━━━━━━━━━━━━━\u001b[0m\u001b[37m\u001b[0m \u001b[1m3s\u001b[0m 22ms/step - loss: 1.1461e-05 - val_loss: 8.6727e-05\n",
      "Epoch 36/100\n",
      "\u001b[1m119/119\u001b[0m \u001b[32m━━━━━━━━━━━━━━━━━━━━\u001b[0m\u001b[37m\u001b[0m \u001b[1m3s\u001b[0m 22ms/step - loss: 9.5137e-06 - val_loss: 1.4769e-04\n",
      "Epoch 37/100\n",
      "\u001b[1m119/119\u001b[0m \u001b[32m━━━━━━━━━━━━━━━━━━━━\u001b[0m\u001b[37m\u001b[0m \u001b[1m3s\u001b[0m 22ms/step - loss: 1.0111e-05 - val_loss: 7.0442e-05\n",
      "Epoch 38/100\n",
      "\u001b[1m119/119\u001b[0m \u001b[32m━━━━━━━━━━━━━━━━━━━━\u001b[0m\u001b[37m\u001b[0m \u001b[1m3s\u001b[0m 22ms/step - loss: 1.4010e-05 - val_loss: 1.6775e-04\n",
      "Epoch 39/100\n",
      "\u001b[1m119/119\u001b[0m \u001b[32m━━━━━━━━━━━━━━━━━━━━\u001b[0m\u001b[37m\u001b[0m \u001b[1m3s\u001b[0m 22ms/step - loss: 9.0704e-06 - val_loss: 1.0109e-04\n",
      "Epoch 40/100\n",
      "\u001b[1m119/119\u001b[0m \u001b[32m━━━━━━━━━━━━━━━━━━━━\u001b[0m\u001b[37m\u001b[0m \u001b[1m3s\u001b[0m 22ms/step - loss: 9.5911e-06 - val_loss: 1.6661e-04\n",
      "Epoch 41/100\n",
      "\u001b[1m119/119\u001b[0m \u001b[32m━━━━━━━━━━━━━━━━━━━━\u001b[0m\u001b[37m\u001b[0m \u001b[1m3s\u001b[0m 22ms/step - loss: 7.5646e-06 - val_loss: 7.4270e-05\n",
      "Epoch 42/100\n",
      "\u001b[1m119/119\u001b[0m \u001b[32m━━━━━━━━━━━━━━━━━━━━\u001b[0m\u001b[37m\u001b[0m \u001b[1m3s\u001b[0m 22ms/step - loss: 1.2880e-05 - val_loss: 7.3343e-05\n",
      "Epoch 43/100\n",
      "\u001b[1m119/119\u001b[0m \u001b[32m━━━━━━━━━━━━━━━━━━━━\u001b[0m\u001b[37m\u001b[0m \u001b[1m3s\u001b[0m 22ms/step - loss: 1.0099e-05 - val_loss: 1.0350e-04\n",
      "Epoch 44/100\n",
      "\u001b[1m119/119\u001b[0m \u001b[32m━━━━━━━━━━━━━━━━━━━━\u001b[0m\u001b[37m\u001b[0m \u001b[1m3s\u001b[0m 22ms/step - loss: 8.2171e-06 - val_loss: 6.1845e-05\n",
      "Epoch 45/100\n",
      "\u001b[1m119/119\u001b[0m \u001b[32m━━━━━━━━━━━━━━━━━━━━\u001b[0m\u001b[37m\u001b[0m \u001b[1m3s\u001b[0m 22ms/step - loss: 1.0488e-05 - val_loss: 6.8350e-05\n",
      "Epoch 46/100\n",
      "\u001b[1m119/119\u001b[0m \u001b[32m━━━━━━━━━━━━━━━━━━━━\u001b[0m\u001b[37m\u001b[0m \u001b[1m3s\u001b[0m 22ms/step - loss: 8.0264e-06 - val_loss: 6.6274e-05\n",
      "Epoch 47/100\n",
      "\u001b[1m119/119\u001b[0m \u001b[32m━━━━━━━━━━━━━━━━━━━━\u001b[0m\u001b[37m\u001b[0m \u001b[1m3s\u001b[0m 22ms/step - loss: 1.0912e-05 - val_loss: 1.1602e-04\n",
      "Epoch 48/100\n",
      "\u001b[1m119/119\u001b[0m \u001b[32m━━━━━━━━━━━━━━━━━━━━\u001b[0m\u001b[37m\u001b[0m \u001b[1m3s\u001b[0m 22ms/step - loss: 7.6002e-06 - val_loss: 2.3304e-04\n",
      "Epoch 49/100\n",
      "\u001b[1m119/119\u001b[0m \u001b[32m━━━━━━━━━━━━━━━━━━━━\u001b[0m\u001b[37m\u001b[0m \u001b[1m3s\u001b[0m 22ms/step - loss: 9.1297e-06 - val_loss: 8.9809e-05\n",
      "Epoch 50/100\n",
      "\u001b[1m119/119\u001b[0m \u001b[32m━━━━━━━━━━━━━━━━━━━━\u001b[0m\u001b[37m\u001b[0m \u001b[1m3s\u001b[0m 22ms/step - loss: 7.7942e-06 - val_loss: 1.0093e-04\n",
      "Epoch 51/100\n",
      "\u001b[1m119/119\u001b[0m \u001b[32m━━━━━━━━━━━━━━━━━━━━\u001b[0m\u001b[37m\u001b[0m \u001b[1m3s\u001b[0m 22ms/step - loss: 1.5496e-05 - val_loss: 1.3555e-04\n",
      "Epoch 52/100\n",
      "\u001b[1m119/119\u001b[0m \u001b[32m━━━━━━━━━━━━━━━━━━━━\u001b[0m\u001b[37m\u001b[0m \u001b[1m3s\u001b[0m 22ms/step - loss: 1.1528e-05 - val_loss: 7.3173e-05\n",
      "Epoch 53/100\n",
      "\u001b[1m119/119\u001b[0m \u001b[32m━━━━━━━━━━━━━━━━━━━━\u001b[0m\u001b[37m\u001b[0m \u001b[1m3s\u001b[0m 22ms/step - loss: 6.5370e-06 - val_loss: 7.7777e-05\n",
      "Epoch 54/100\n",
      "\u001b[1m119/119\u001b[0m \u001b[32m━━━━━━━━━━━━━━━━━━━━\u001b[0m\u001b[37m\u001b[0m \u001b[1m3s\u001b[0m 22ms/step - loss: 7.6450e-06 - val_loss: 1.3426e-04\n",
      "Epoch 55/100\n",
      "\u001b[1m119/119\u001b[0m \u001b[32m━━━━━━━━━━━━━━━━━━━━\u001b[0m\u001b[37m\u001b[0m \u001b[1m3s\u001b[0m 22ms/step - loss: 7.8827e-06 - val_loss: 8.8820e-05\n",
      "Epoch 56/100\n",
      "\u001b[1m119/119\u001b[0m \u001b[32m━━━━━━━━━━━━━━━━━━━━\u001b[0m\u001b[37m\u001b[0m \u001b[1m3s\u001b[0m 22ms/step - loss: 9.3777e-06 - val_loss: 7.6396e-05\n",
      "Epoch 57/100\n",
      "\u001b[1m119/119\u001b[0m \u001b[32m━━━━━━━━━━━━━━━━━━━━\u001b[0m\u001b[37m\u001b[0m \u001b[1m3s\u001b[0m 22ms/step - loss: 7.1812e-06 - val_loss: 9.4317e-05\n",
      "Epoch 58/100\n",
      "\u001b[1m119/119\u001b[0m \u001b[32m━━━━━━━━━━━━━━━━━━━━\u001b[0m\u001b[37m\u001b[0m \u001b[1m3s\u001b[0m 22ms/step - loss: 6.6308e-06 - val_loss: 9.3781e-05\n",
      "Epoch 59/100\n",
      "\u001b[1m119/119\u001b[0m \u001b[32m━━━━━━━━━━━━━━━━━━━━\u001b[0m\u001b[37m\u001b[0m \u001b[1m3s\u001b[0m 22ms/step - loss: 1.0788e-05 - val_loss: 4.2625e-05\n",
      "Epoch 60/100\n",
      "\u001b[1m119/119\u001b[0m \u001b[32m━━━━━━━━━━━━━━━━━━━━\u001b[0m\u001b[37m\u001b[0m \u001b[1m3s\u001b[0m 22ms/step - loss: 8.0579e-06 - val_loss: 1.8690e-04\n",
      "Epoch 61/100\n",
      "\u001b[1m119/119\u001b[0m \u001b[32m━━━━━━━━━━━━━━━━━━━━\u001b[0m\u001b[37m\u001b[0m \u001b[1m3s\u001b[0m 22ms/step - loss: 6.0919e-06 - val_loss: 1.0349e-04\n",
      "Epoch 62/100\n",
      "\u001b[1m119/119\u001b[0m \u001b[32m━━━━━━━━━━━━━━━━━━━━\u001b[0m\u001b[37m\u001b[0m \u001b[1m3s\u001b[0m 22ms/step - loss: 7.4842e-06 - val_loss: 5.8306e-05\n",
      "Epoch 63/100\n",
      "\u001b[1m119/119\u001b[0m \u001b[32m━━━━━━━━━━━━━━━━━━━━\u001b[0m\u001b[37m\u001b[0m \u001b[1m3s\u001b[0m 22ms/step - loss: 1.0166e-05 - val_loss: 1.7192e-04\n",
      "Epoch 64/100\n",
      "\u001b[1m119/119\u001b[0m \u001b[32m━━━━━━━━━━━━━━━━━━━━\u001b[0m\u001b[37m\u001b[0m \u001b[1m3s\u001b[0m 22ms/step - loss: 7.7817e-06 - val_loss: 7.0284e-05\n",
      "Epoch 65/100\n",
      "\u001b[1m119/119\u001b[0m \u001b[32m━━━━━━━━━━━━━━━━━━━━\u001b[0m\u001b[37m\u001b[0m \u001b[1m3s\u001b[0m 22ms/step - loss: 6.4064e-06 - val_loss: 6.2147e-05\n",
      "Epoch 66/100\n",
      "\u001b[1m119/119\u001b[0m \u001b[32m━━━━━━━━━━━━━━━━━━━━\u001b[0m\u001b[37m\u001b[0m \u001b[1m3s\u001b[0m 22ms/step - loss: 6.3555e-06 - val_loss: 1.1534e-04\n",
      "Epoch 67/100\n",
      "\u001b[1m119/119\u001b[0m \u001b[32m━━━━━━━━━━━━━━━━━━━━\u001b[0m\u001b[37m\u001b[0m \u001b[1m3s\u001b[0m 22ms/step - loss: 4.9325e-06 - val_loss: 8.5195e-05\n",
      "Epoch 68/100\n",
      "\u001b[1m119/119\u001b[0m \u001b[32m━━━━━━━━━━━━━━━━━━━━\u001b[0m\u001b[37m\u001b[0m \u001b[1m3s\u001b[0m 22ms/step - loss: 6.3180e-06 - val_loss: 5.5649e-05\n",
      "Epoch 69/100\n",
      "\u001b[1m119/119\u001b[0m \u001b[32m━━━━━━━━━━━━━━━━━━━━\u001b[0m\u001b[37m\u001b[0m \u001b[1m3s\u001b[0m 22ms/step - loss: 6.4147e-06 - val_loss: 1.0163e-04\n",
      "Epoch 70/100\n",
      "\u001b[1m119/119\u001b[0m \u001b[32m━━━━━━━━━━━━━━━━━━━━\u001b[0m\u001b[37m\u001b[0m \u001b[1m3s\u001b[0m 22ms/step - loss: 1.9690e-05 - val_loss: 8.0264e-05\n",
      "Epoch 71/100\n",
      "\u001b[1m119/119\u001b[0m \u001b[32m━━━━━━━━━━━━━━━━━━━━\u001b[0m\u001b[37m\u001b[0m \u001b[1m3s\u001b[0m 22ms/step - loss: 5.7261e-06 - val_loss: 7.4506e-05\n",
      "Epoch 72/100\n",
      "\u001b[1m119/119\u001b[0m \u001b[32m━━━━━━━━━━━━━━━━━━━━\u001b[0m\u001b[37m\u001b[0m \u001b[1m3s\u001b[0m 22ms/step - loss: 6.7306e-06 - val_loss: 1.0241e-04\n",
      "Epoch 73/100\n",
      "\u001b[1m119/119\u001b[0m \u001b[32m━━━━━━━━━━━━━━━━━━━━\u001b[0m\u001b[37m\u001b[0m \u001b[1m3s\u001b[0m 22ms/step - loss: 5.3612e-06 - val_loss: 9.5471e-05\n",
      "Epoch 74/100\n",
      "\u001b[1m119/119\u001b[0m \u001b[32m━━━━━━━━━━━━━━━━━━━━\u001b[0m\u001b[37m\u001b[0m \u001b[1m3s\u001b[0m 22ms/step - loss: 6.5348e-06 - val_loss: 1.7290e-04\n",
      "Epoch 75/100\n",
      "\u001b[1m119/119\u001b[0m \u001b[32m━━━━━━━━━━━━━━━━━━━━\u001b[0m\u001b[37m\u001b[0m \u001b[1m3s\u001b[0m 22ms/step - loss: 5.3226e-06 - val_loss: 8.4976e-05\n",
      "Epoch 76/100\n",
      "\u001b[1m119/119\u001b[0m \u001b[32m━━━━━━━━━━━━━━━━━━━━\u001b[0m\u001b[37m\u001b[0m \u001b[1m3s\u001b[0m 22ms/step - loss: 7.0216e-06 - val_loss: 1.4784e-04\n",
      "Epoch 77/100\n",
      "\u001b[1m119/119\u001b[0m \u001b[32m━━━━━━━━━━━━━━━━━━━━\u001b[0m\u001b[37m\u001b[0m \u001b[1m3s\u001b[0m 22ms/step - loss: 5.7506e-06 - val_loss: 8.8911e-05\n",
      "Epoch 78/100\n",
      "\u001b[1m119/119\u001b[0m \u001b[32m━━━━━━━━━━━━━━━━━━━━\u001b[0m\u001b[37m\u001b[0m \u001b[1m3s\u001b[0m 22ms/step - loss: 8.8991e-06 - val_loss: 9.6960e-05\n",
      "Epoch 79/100\n",
      "\u001b[1m119/119\u001b[0m \u001b[32m━━━━━━━━━━━━━━━━━━━━\u001b[0m\u001b[37m\u001b[0m \u001b[1m3s\u001b[0m 22ms/step - loss: 4.4570e-06 - val_loss: 9.5184e-05\n",
      "Epoch 80/100\n",
      "\u001b[1m119/119\u001b[0m \u001b[32m━━━━━━━━━━━━━━━━━━━━\u001b[0m\u001b[37m\u001b[0m \u001b[1m3s\u001b[0m 22ms/step - loss: 4.9109e-06 - val_loss: 9.4294e-05\n",
      "Epoch 81/100\n",
      "\u001b[1m119/119\u001b[0m \u001b[32m━━━━━━━━━━━━━━━━━━━━\u001b[0m\u001b[37m\u001b[0m \u001b[1m3s\u001b[0m 22ms/step - loss: 4.2484e-06 - val_loss: 1.6484e-04\n",
      "Epoch 82/100\n",
      "\u001b[1m119/119\u001b[0m \u001b[32m━━━━━━━━━━━━━━━━━━━━\u001b[0m\u001b[37m\u001b[0m \u001b[1m3s\u001b[0m 22ms/step - loss: 5.1230e-06 - val_loss: 2.0191e-04\n",
      "Epoch 83/100\n",
      "\u001b[1m119/119\u001b[0m \u001b[32m━━━━━━━━━━━━━━━━━━━━\u001b[0m\u001b[37m\u001b[0m \u001b[1m3s\u001b[0m 22ms/step - loss: 6.7820e-06 - val_loss: 8.7844e-05\n",
      "Epoch 84/100\n",
      "\u001b[1m119/119\u001b[0m \u001b[32m━━━━━━━━━━━━━━━━━━━━\u001b[0m\u001b[37m\u001b[0m \u001b[1m3s\u001b[0m 22ms/step - loss: 4.4032e-06 - val_loss: 2.3966e-04\n",
      "Epoch 85/100\n",
      "\u001b[1m119/119\u001b[0m \u001b[32m━━━━━━━━━━━━━━━━━━━━\u001b[0m\u001b[37m\u001b[0m \u001b[1m3s\u001b[0m 22ms/step - loss: 7.7755e-06 - val_loss: 7.5774e-05\n",
      "Epoch 86/100\n",
      "\u001b[1m119/119\u001b[0m \u001b[32m━━━━━━━━━━━━━━━━━━━━\u001b[0m\u001b[37m\u001b[0m \u001b[1m3s\u001b[0m 22ms/step - loss: 4.6978e-06 - val_loss: 1.4611e-04\n",
      "Epoch 87/100\n",
      "\u001b[1m119/119\u001b[0m \u001b[32m━━━━━━━━━━━━━━━━━━━━\u001b[0m\u001b[37m\u001b[0m \u001b[1m3s\u001b[0m 22ms/step - loss: 4.1511e-06 - val_loss: 1.0638e-04\n",
      "Epoch 88/100\n",
      "\u001b[1m119/119\u001b[0m \u001b[32m━━━━━━━━━━━━━━━━━━━━\u001b[0m\u001b[37m\u001b[0m \u001b[1m3s\u001b[0m 22ms/step - loss: 6.6686e-06 - val_loss: 8.4558e-05\n",
      "Epoch 89/100\n",
      "\u001b[1m119/119\u001b[0m \u001b[32m━━━━━━━━━━━━━━━━━━━━\u001b[0m\u001b[37m\u001b[0m \u001b[1m3s\u001b[0m 22ms/step - loss: 4.7096e-06 - val_loss: 9.2107e-05\n",
      "Epoch 90/100\n",
      "\u001b[1m119/119\u001b[0m \u001b[32m━━━━━━━━━━━━━━━━━━━━\u001b[0m\u001b[37m\u001b[0m \u001b[1m3s\u001b[0m 22ms/step - loss: 4.3290e-06 - val_loss: 7.9750e-05\n",
      "Epoch 91/100\n",
      "\u001b[1m119/119\u001b[0m \u001b[32m━━━━━━━━━━━━━━━━━━━━\u001b[0m\u001b[37m\u001b[0m \u001b[1m3s\u001b[0m 22ms/step - loss: 4.5067e-06 - val_loss: 6.9395e-05\n",
      "Epoch 92/100\n",
      "\u001b[1m119/119\u001b[0m \u001b[32m━━━━━━━━━━━━━━━━━━━━\u001b[0m\u001b[37m\u001b[0m \u001b[1m3s\u001b[0m 22ms/step - loss: 4.1092e-06 - val_loss: 1.3988e-04\n",
      "Epoch 93/100\n",
      "\u001b[1m119/119\u001b[0m \u001b[32m━━━━━━━━━━━━━━━━━━━━\u001b[0m\u001b[37m\u001b[0m \u001b[1m3s\u001b[0m 22ms/step - loss: 4.1521e-06 - val_loss: 1.2556e-04\n",
      "Epoch 94/100\n",
      "\u001b[1m119/119\u001b[0m \u001b[32m━━━━━━━━━━━━━━━━━━━━\u001b[0m\u001b[37m\u001b[0m \u001b[1m3s\u001b[0m 22ms/step - loss: 4.4903e-06 - val_loss: 7.6307e-05\n",
      "Epoch 95/100\n",
      "\u001b[1m119/119\u001b[0m \u001b[32m━━━━━━━━━━━━━━━━━━━━\u001b[0m\u001b[37m\u001b[0m \u001b[1m3s\u001b[0m 23ms/step - loss: 5.1364e-06 - val_loss: 8.4180e-05\n",
      "Epoch 96/100\n",
      "\u001b[1m119/119\u001b[0m \u001b[32m━━━━━━━━━━━━━━━━━━━━\u001b[0m\u001b[37m\u001b[0m \u001b[1m3s\u001b[0m 22ms/step - loss: 6.1786e-06 - val_loss: 7.5572e-05\n",
      "Epoch 97/100\n",
      "\u001b[1m119/119\u001b[0m \u001b[32m━━━━━━━━━━━━━━━━━━━━\u001b[0m\u001b[37m\u001b[0m \u001b[1m3s\u001b[0m 22ms/step - loss: 4.5830e-06 - val_loss: 9.6403e-05\n",
      "Epoch 98/100\n",
      "\u001b[1m119/119\u001b[0m \u001b[32m━━━━━━━━━━━━━━━━━━━━\u001b[0m\u001b[37m\u001b[0m \u001b[1m3s\u001b[0m 22ms/step - loss: 3.8491e-06 - val_loss: 1.4860e-04\n",
      "Epoch 99/100\n",
      "\u001b[1m119/119\u001b[0m \u001b[32m━━━━━━━━━━━━━━━━━━━━\u001b[0m\u001b[37m\u001b[0m \u001b[1m3s\u001b[0m 22ms/step - loss: 5.3069e-06 - val_loss: 1.1285e-04\n",
      "Epoch 100/100\n",
      "\u001b[1m119/119\u001b[0m \u001b[32m━━━━━━━━━━━━━━━━━━━━\u001b[0m\u001b[37m\u001b[0m \u001b[1m3s\u001b[0m 22ms/step - loss: 3.8558e-06 - val_loss: 1.0299e-04\n"
     ]
    }
   ],
   "source": [
    "# Huấn luyện mô hình\n",
    "history = model.fit(X_train, y_train, \n",
    "                   validation_data=(X_test, y_test),\n",
    "                   epochs=100, \n",
    "                   batch_size=64, \n",
    "                   verbose=1)"
   ]
  },
  {
   "cell_type": "code",
   "execution_count": 27,
   "metadata": {
    "execution": {
     "iopub.execute_input": "2025-06-02T08:22:41.686853Z",
     "iopub.status.busy": "2025-06-02T08:22:41.686648Z",
     "iopub.status.idle": "2025-06-02T08:22:45.280111Z",
     "shell.execute_reply": "2025-06-02T08:22:45.279397Z",
     "shell.execute_reply.started": "2025-06-02T08:22:41.686837Z"
    },
    "trusted": true
   },
   "outputs": [
    {
     "name": "stdout",
     "output_type": "stream",
     "text": [
      "\u001b[1m238/238\u001b[0m \u001b[32m━━━━━━━━━━━━━━━━━━━━\u001b[0m\u001b[37m\u001b[0m \u001b[1m2s\u001b[0m 9ms/step\n",
      "\u001b[1m127/127\u001b[0m \u001b[32m━━━━━━━━━━━━━━━━━━━━\u001b[0m\u001b[37m\u001b[0m \u001b[1m1s\u001b[0m 6ms/step\n"
     ]
    }
   ],
   "source": [
    "# Dự đoán trên tập train và test\n",
    "train_predict = model.predict(X_train)\n",
    "test_predict = model.predict(X_test)"
   ]
  },
  {
   "cell_type": "code",
   "execution_count": 28,
   "metadata": {
    "execution": {
     "iopub.execute_input": "2025-06-02T08:22:45.281434Z",
     "iopub.status.busy": "2025-06-02T08:22:45.281220Z",
     "iopub.status.idle": "2025-06-02T08:22:45.286426Z",
     "shell.execute_reply": "2025-06-02T08:22:45.285873Z",
     "shell.execute_reply.started": "2025-06-02T08:22:45.281418Z"
    },
    "trusted": true
   },
   "outputs": [],
   "source": [
    "# Chuyển đổi về scale gốc\n",
    "train_predict = scaler_target.inverse_transform(train_predict)\n",
    "test_predict = scaler_target.inverse_transform(test_predict)\n",
    "y_train_original = scaler_target.inverse_transform(y_train.reshape(-1, 1))\n",
    "y_test_original = scaler_target.inverse_transform(y_test.reshape(-1, 1))"
   ]
  },
  {
   "cell_type": "code",
   "execution_count": null,
   "metadata": {
    "execution": {
     "iopub.execute_input": "2025-06-02T08:22:45.288160Z",
     "iopub.status.busy": "2025-06-02T08:22:45.287904Z",
     "iopub.status.idle": "2025-06-02T08:22:45.304182Z",
     "shell.execute_reply": "2025-06-02T08:22:45.303461Z",
     "shell.execute_reply.started": "2025-06-02T08:22:45.288122Z"
    },
    "trusted": true
   },
   "outputs": [],
   "source": [
    "# Tính RMSE cho biết sai số trung bình của dự đoán\n",
    "train_rmse = math.sqrt(mean_squared_error(y_train_original, train_predict))\n",
    "test_rmse = math.sqrt(mean_squared_error(y_test_original, test_predict))\n"
   ]
  },
  {
   "cell_type": "code",
   "execution_count": null,
   "metadata": {
    "execution": {
     "iopub.execute_input": "2025-06-02T08:22:45.305062Z",
     "iopub.status.busy": "2025-06-02T08:22:45.304871Z",
     "iopub.status.idle": "2025-06-02T08:22:45.321840Z",
     "shell.execute_reply": "2025-06-02T08:22:45.321164Z",
     "shell.execute_reply.started": "2025-06-02T08:22:45.305049Z"
    },
    "trusted": true
   },
   "outputs": [
    {
     "name": "stdout",
     "output_type": "stream",
     "text": [
      "Train RMSE: 0.007983157477700073\n",
      "Test RMSE: 0.04965795590653593\n"
     ]
    }
   ],
   "source": [
    "# Train RMSE thấp, Test RMSE cao → Overfitting (mô hình học thuộc lòng data train)\n",
    "# Train RMSE thấp, Test RMSE thấp → Mô hình tốt (học tốt cả train và test)\n",
    "# Train RMSE cao, Test RMSE thấp → Underfitting (mô hình chưa học đủ tốt)\n",
    "print(f\"Train RMSE: {train_rmse}\")\n",
    "print(f\"Test RMSE: {test_rmse}\")"
   ]
  },
  {
   "cell_type": "code",
   "execution_count": 31,
   "metadata": {
    "execution": {
     "iopub.execute_input": "2025-06-02T08:22:45.322931Z",
     "iopub.status.busy": "2025-06-02T08:22:45.322694Z",
     "iopub.status.idle": "2025-06-02T08:22:45.337368Z",
     "shell.execute_reply": "2025-06-02T08:22:45.336863Z",
     "shell.execute_reply.started": "2025-06-02T08:22:45.322911Z"
    },
    "trusted": true
   },
   "outputs": [],
   "source": [
    "# Dự đoán 30 ngày tiếp theo\n",
    "def predict_future_multifeature(model, last_sequence, scaler_features, scaler_target, n_days=30):\n",
    "    \"\"\"\n",
    "    Dự đoán nhiều ngày tiếp theo với multi-features\n",
    "    \"\"\"\n",
    "    predictions = []\n",
    "    current_sequence = last_sequence.copy()\n",
    "    \n",
    "    for i in range(n_days):\n",
    "        # Reshape để predict\n",
    "        input_sequence = current_sequence.reshape(1, time_step, len(features))\n",
    "        \n",
    "        # Dự đoán giá trị tiếp theo\n",
    "        next_pred = model.predict(input_sequence, verbose=0)\n",
    "        predictions.append(next_pred[0, 0])\n",
    "        \n",
    "        # Tạo features giả định cho bước tiếp theo\n",
    "        # Giả sử các features khác không đổi nhiều, chỉ cập nhật gold_open\n",
    "        last_features = current_sequence[-1].copy()\n",
    "        \n",
    "        # Cập nhật gold_open (index 1) với giá trị dự đoán\n",
    "        last_features[1] = next_pred[0, 0]  # gold_open\n",
    "        \n",
    "        # Có thể cập nhật các features khác dựa trên logic business\n",
    "        # Ví dụ: gold_last = gold_open của ngày trước\n",
    "        last_features[0] = next_pred[0, 0]  # gold_last\n",
    "        \n",
    "        # Cập nhật sequence\n",
    "        current_sequence = np.append(current_sequence[1:], [last_features], axis=0)\n",
    "    \n",
    "    return np.array(predictions)"
   ]
  },
  {
   "cell_type": "code",
   "execution_count": null,
   "metadata": {},
   "outputs": [],
   "source": [
    "# Ban đầu: current_sequence có 100 ngày\n",
    "# Ngày 1: [feature1, feature2, ..., feature6]\n",
    "# Ngày 2: [feature1, feature2, ..., feature6]\n",
    "# ...\n",
    "# Ngày 100: [feature1, feature2, ..., feature6]\n",
    "\n",
    "# Lần dự đoán đầu tiên (i=0):\n",
    "# - Input: 100 ngày gần nhất\n",
    "# - Output: Dự đoán gold_open cho ngày 101\n",
    "# - Tạo features cho ngày 101 dựa trên dự đoán\n",
    "# - Cập nhật sequence: bỏ ngày 1, thêm ngày 101\n",
    "\n",
    "# Lần dự đoán thứ hai (i=1):\n",
    "# - Input: ngày 2 đến ngày 101 (100 ngày)\n",
    "# - Output: Dự đoán gold_open cho ngày 102\n",
    "# - Và tiếp tục..."
   ]
  },
  {
   "cell_type": "code",
   "execution_count": 32,
   "metadata": {
    "execution": {
     "iopub.execute_input": "2025-06-02T08:22:45.338353Z",
     "iopub.status.busy": "2025-06-02T08:22:45.338096Z",
     "iopub.status.idle": "2025-06-02T08:22:45.351525Z",
     "shell.execute_reply": "2025-06-02T08:22:45.351008Z",
     "shell.execute_reply.started": "2025-06-02T08:22:45.338338Z"
    },
    "trusted": true
   },
   "outputs": [
    {
     "name": "stdout",
     "output_type": "stream",
     "text": [
      "Last sequence shape: (100, 6)\n"
     ]
    }
   ],
   "source": [
    "# Lấy 100 mẫu cuối cùng để dự đoán\n",
    "last_sequence = test_features[-time_step:]\n",
    "print(\"Last sequence shape:\", last_sequence.shape)"
   ]
  },
  {
   "cell_type": "code",
   "execution_count": 33,
   "metadata": {
    "execution": {
     "iopub.execute_input": "2025-06-02T08:22:45.352308Z",
     "iopub.status.busy": "2025-06-02T08:22:45.352089Z",
     "iopub.status.idle": "2025-06-02T08:22:47.488816Z",
     "shell.execute_reply": "2025-06-02T08:22:47.488283Z",
     "shell.execute_reply.started": "2025-06-02T08:22:45.352294Z"
    },
    "trusted": true
   },
   "outputs": [],
   "source": [
    "# Dự đoán 30 ngày tiếp theo\n",
    "future_predictions = predict_future_multifeature(model, last_sequence, scaler_features, scaler_target, 30)"
   ]
  },
  {
   "cell_type": "code",
   "execution_count": 34,
   "metadata": {
    "execution": {
     "iopub.execute_input": "2025-06-02T08:22:47.489786Z",
     "iopub.status.busy": "2025-06-02T08:22:47.489583Z",
     "iopub.status.idle": "2025-06-02T08:22:47.493791Z",
     "shell.execute_reply": "2025-06-02T08:22:47.493050Z",
     "shell.execute_reply.started": "2025-06-02T08:22:47.489769Z"
    },
    "trusted": true
   },
   "outputs": [],
   "source": [
    "# Chuyển đổi về scale gốc\n",
    "future_predictions_original = scaler_target.inverse_transform(future_predictions.reshape(-1, 1)).flatten()"
   ]
  },
  {
   "cell_type": "code",
   "execution_count": 35,
   "metadata": {
    "execution": {
     "iopub.execute_input": "2025-06-02T08:22:47.496080Z",
     "iopub.status.busy": "2025-06-02T08:22:47.495856Z",
     "iopub.status.idle": "2025-06-02T08:22:47.509110Z",
     "shell.execute_reply": "2025-06-02T08:22:47.508406Z",
     "shell.execute_reply.started": "2025-06-02T08:22:47.496066Z"
    },
    "trusted": true
   },
   "outputs": [
    {
     "name": "stdout",
     "output_type": "stream",
     "text": [
      "Future predictions shape: (30,)\n",
      "Future predictions (first 10): [3.2696235 3.0820928 3.1193976 3.0951083 3.0728374 3.0752547 3.069023\n",
      " 3.0666845 3.06673   3.0659544]\n"
     ]
    }
   ],
   "source": [
    "print(\"Future predictions shape:\", future_predictions_original.shape)\n",
    "print(\"Future predictions (first 10):\", future_predictions_original[:10])"
   ]
  },
  {
   "cell_type": "code",
   "execution_count": 45,
   "metadata": {
    "execution": {
     "iopub.execute_input": "2025-06-02T08:27:35.621508Z",
     "iopub.status.busy": "2025-06-02T08:27:35.621197Z",
     "iopub.status.idle": "2025-06-02T08:27:36.013659Z",
     "shell.execute_reply": "2025-06-02T08:27:36.013144Z",
     "shell.execute_reply.started": "2025-06-02T08:27:35.621489Z"
    },
    "trusted": true
   },
   "outputs": [
    {
     "name": "stdout",
     "output_type": "stream",
     "text": [
      "Historical days: 100, Future days: 30\n",
      "Historical data: 100, Future predictions: 30\n"
     ]
    },
    {
     "data": {
      "image/png": "[encoded data removed]",
      "text/plain": [
       "<Figure size 1500x800 with 1 Axes>"
      ]
     },
     "metadata": {},
     "output_type": "display_data"
    }
   ],
   "source": [
    "# Vẽ biểu đồ\n",
    "try:\n",
    "    plt.figure(figsize=(15, 8))\n",
    "    \n",
    "    # Dữ liệu gốc (100 ngày cuối)\n",
    "    if len(test_target) >= 100:\n",
    "        last_100_days = scaler_target.inverse_transform(test_target[-100:]).flatten()\n",
    "    else:\n",
    "        last_100_days = scaler_target.inverse_transform(test_target).flatten()\n",
    "        \n",
    "    days_historical = np.arange(1, len(last_100_days) + 1)\n",
    "    \n",
    "    # Dự đoán 30 ngày tiếp theo\n",
    "    days_future = np.arange(len(last_100_days) + 1, len(last_100_days) + 31)\n",
    "    \n",
    "    print(f\"Historical days: {len(days_historical)}, Future days: {len(days_future)}\")\n",
    "    print(f\"Historical data: {len(last_100_days)}, Future predictions: {len(future_predictions_original)}\")\n",
    "    \n",
    "    # Vẽ biểu đồ\n",
    "    plt.plot(days_historical, last_100_days, label='Historical Gold Open (Last 100 days)', color='blue', linewidth=2)\n",
    "    plt.plot(days_future, future_predictions_original, label='Predicted Gold Open (Next 30 days)', color='red', linewidth=2, linestyle='--')\n",
    "    \n",
    "    # Kết nối điểm cuối và điểm đầu prediction\n",
    "    if len(last_100_days) > 0 and len(future_predictions_original) > 0:\n",
    "        plt.plot([days_historical[-1], days_future[0]], [last_100_days[-1], future_predictions_original[0]], color='green', linewidth=2)\n",
    "    \n",
    "    plt.title('Gold Price Prediction - Multi-Feature LSTM Model', fontsize=16)\n",
    "    plt.xlabel('Days', fontsize=12)\n",
    "    plt.ylabel('Gold Open Price', fontsize=12)\n",
    "    plt.legend()\n",
    "    plt.grid(True, alpha=0.3)\n",
    "    plt.tight_layout()\n",
    "    \n",
    "    # Force display\n",
    "    plt.draw()\n",
    "    plt.pause(0.1)\n",
    "    plt.show(block=True)\n",
    "    \n",
    "except Exception as e:\n",
    "    print(f\"Error plotting first chart: {e}\")\n",
    "    print(\"Trying alternative plotting method...\")\n",
    "    \n",
    "    # Phương pháp vẽ thay thế\n",
    "    fig, ax = plt.subplots(figsize=(15, 8))\n",
    "    \n",
    "    # Sử dụng dữ liệu đơn giản hơn\n",
    "    historical_data = df_target.tail(100).values\n",
    "    ax.plot(range(100), historical_data, label='Historical', color='blue')\n",
    "    \n",
    "    if len(future_predictions_original) > 0:\n",
    "        ax.plot(range(100, 130), future_predictions_original, label='Predicted', color='red', linestyle='--')\n",
    "    \n",
    "    ax.set_title('Gold Price Prediction')\n",
    "    ax.set_xlabel('Days')\n",
    "    ax.set_ylabel('Price')\n",
    "    ax.legend()\n",
    "    ax.grid(True)\n",
    "    plt.tight_layout()\n",
    "    plt.show()"
   ]
  },
  {
   "cell_type": "code",
   "execution_count": 46,
   "metadata": {
    "execution": {
     "iopub.execute_input": "2025-06-02T08:27:59.214837Z",
     "iopub.status.busy": "2025-06-02T08:27:59.214567Z",
     "iopub.status.idle": "2025-06-02T08:27:59.442443Z",
     "shell.execute_reply": "2025-06-02T08:27:59.441780Z",
     "shell.execute_reply.started": "2025-06-02T08:27:59.214816Z"
    },
    "trusted": true
   },
   "outputs": [
    {
     "data": {
      "image/png": "[encoded data removed]",
      "text/plain": [
       "<Figure size 1500x800 with 1 Axes>"
      ]
     },
     "metadata": {},
     "output_type": "display_data"
    }
   ],
   "source": [
    "# Vẽ biểu đồ tổng quan\n",
    "try:\n",
    "    plt.figure(figsize=(15, 8))\n",
    "    \n",
    "    # Lấy dữ liệu an toàn\n",
    "    if len(scaled_target) >= 500:\n",
    "        last_500_days = scaler_target.inverse_transform(scaled_target[-500:]).flatten()\n",
    "        days_long = np.arange(1, 501)\n",
    "        days_future_long = np.arange(501, 531)\n",
    "    else:\n",
    "        last_500_days = scaler_target.inverse_transform(scaled_target).flatten()\n",
    "        days_long = np.arange(1, len(last_500_days) + 1)\n",
    "        days_future_long = np.arange(len(last_500_days) + 1, len(last_500_days) + 31)\n",
    "    \n",
    "    plt.plot(days_long, last_500_days, label='Historical Gold Open', color='blue', alpha=0.7)\n",
    "    \n",
    "    if len(future_predictions_original) > 0:\n",
    "        plt.plot(days_future_long, future_predictions_original, label='Predicted Gold Open (Next 30 days)', color='red', linewidth=3, linestyle='--')\n",
    "    \n",
    "    plt.title('Gold Price Prediction - Long Term View', fontsize=16)\n",
    "    plt.xlabel('Days', fontsize=12)\n",
    "    plt.ylabel('Gold Open Price', fontsize=12)\n",
    "    plt.legend()\n",
    "    plt.grid(True, alpha=0.3)\n",
    "    plt.tight_layout()\n",
    "    plt.show(block=True)\n",
    "    \n",
    "except Exception as e:\n",
    "    print(f\"Error plotting second chart: {e}\")\n",
    "    \n",
    "    # Vẽ biểu đồ đơn giản thay thế\n",
    "    plt.figure(figsize=(12, 6))\n",
    "    \n",
    "    # Chỉ vẽ dự đoán nếu có data\n",
    "    if len(future_predictions_original) > 0:\n",
    "        plt.plot(range(30), future_predictions_original, 'ro-', label='30-Day Predictions', linewidth=2)\n",
    "        plt.title('Gold Price Predictions - Next 30 Days')\n",
    "        plt.xlabel('Day')\n",
    "        plt.ylabel('Predicted Gold Open Price')\n",
    "        plt.legend()\n",
    "        plt.grid(True)\n",
    "        plt.xticks(range(0, 30, 5))\n",
    "        plt.tight_layout()\n",
    "        plt.show()\n",
    "    else:\n",
    "        print(\"No prediction data to plot\")\n"
   ]
  },
  {
   "cell_type": "code",
   "execution_count": 48,
   "metadata": {
    "execution": {
     "iopub.execute_input": "2025-06-02T08:28:26.782105Z",
     "iopub.status.busy": "2025-06-02T08:28:26.781408Z",
     "iopub.status.idle": "2025-06-02T08:28:26.787011Z",
     "shell.execute_reply": "2025-06-02T08:28:26.786207Z",
     "shell.execute_reply.started": "2025-06-02T08:28:26.782081Z"
    },
    "trusted": true
   },
   "outputs": [
    {
     "name": "stdout",
     "output_type": "stream",
     "text": [
      "\n",
      "=== PREDICTION STATISTICS ===\n",
      "Average predicted price: $3.07\n",
      "Min predicted price: $3.05\n",
      "Max predicted price: $3.27\n",
      "Standard deviation: $0.04\n"
     ]
    }
   ],
   "source": [
    "# In thống kê dự đoán\n",
    "print(\"\\n=== PREDICTION STATISTICS ===\")\n",
    "print(f\"Average predicted price: ${np.mean(future_predictions_original):.2f}\")\n",
    "print(f\"Min predicted price: ${np.min(future_predictions_original):.2f}\")\n",
    "print(f\"Max predicted price: ${np.max(future_predictions_original):.2f}\")\n",
    "print(f\"Standard deviation: ${np.std(future_predictions_original):.2f}\")"
   ]
  },
  {
   "cell_type": "code",
   "execution_count": 49,
   "metadata": {
    "execution": {
     "iopub.execute_input": "2025-06-02T08:28:28.920763Z",
     "iopub.status.busy": "2025-06-02T08:28:28.920291Z",
     "iopub.status.idle": "2025-06-02T08:28:28.925161Z",
     "shell.execute_reply": "2025-06-02T08:28:28.924441Z",
     "shell.execute_reply.started": "2025-06-02T08:28:28.920740Z"
    },
    "trusted": true
   },
   "outputs": [
    {
     "name": "stdout",
     "output_type": "stream",
     "text": [
      "\n",
      "=== DAILY PREDICTIONS ===\n",
      "Day 1: $3.27\n",
      "Day 2: $3.08\n",
      "Day 3: $3.12\n",
      "Day 4: $3.10\n",
      "Day 5: $3.07\n",
      "Day 6: $3.08\n",
      "Day 7: $3.07\n",
      "Day 8: $3.07\n",
      "Day 9: $3.07\n",
      "Day 10: $3.07\n",
      "Day 11: $3.07\n",
      "Day 12: $3.07\n",
      "Day 13: $3.07\n",
      "Day 14: $3.06\n",
      "Day 15: $3.06\n",
      "Day 16: $3.06\n",
      "Day 17: $3.06\n",
      "Day 18: $3.06\n",
      "Day 19: $3.06\n",
      "Day 20: $3.06\n",
      "Day 21: $3.06\n",
      "Day 22: $3.06\n",
      "Day 23: $3.06\n",
      "Day 24: $3.06\n",
      "Day 25: $3.06\n",
      "Day 26: $3.06\n",
      "Day 27: $3.06\n",
      "Day 28: $3.06\n",
      "Day 29: $3.05\n",
      "Day 30: $3.05\n"
     ]
    }
   ],
   "source": [
    "# In dự đoán từng ngày\n",
    "print(\"\\n=== DAILY PREDICTIONS ===\")\n",
    "for i, pred in enumerate(future_predictions_original, 1):\n",
    "    print(f\"Day {i}: ${pred:.2f}\")"
   ]
  }
 ],
 "metadata": {
  "kaggle": {
   "accelerator": "gpu",
   "dataSources": [
    {
     "datasetId": 7571453,
     "sourceId": 12033378,
     "sourceType": "datasetVersion"
    }
   ],
   "dockerImageVersionId": 31041,
   "isGpuEnabled": true,
   "isInternetEnabled": true,
   "language": "python",
   "sourceType": "notebook"
  },
  "kernelspec": {
   "display_name": "Python 3",
   "language": "python",
   "name": "python3"
  },
  "language_info": {
   "codemirror_mode": {
    "name": "ipython",
    "version": 3
   },
   "file_extension": ".py",
   "mimetype": "text/x-python",
   "name": "python",
   "nbconvert_exporter": "python",
   "pygments_lexer": "ipython3",
   "version": "3.11.11"
  }
 },
 "nbformat": 4,
 "nbformat_minor": 4
}
